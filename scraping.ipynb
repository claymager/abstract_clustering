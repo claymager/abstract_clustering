{
 "cells": [
  {
   "cell_type": "markdown",
   "metadata": {},
   "source": [
    "# Setup\n",
    "Initializes connections to mongodb."
   ]
  },
  {
   "cell_type": "code",
   "execution_count": 1,
   "metadata": {},
   "outputs": [],
   "source": [
    "%load_ext autoreload\n",
    "%autoreload 2\n",
    "\n",
    "from bs4 import BeautifulSoup\n",
    "from pymongo import MongoClient\n",
    "import pprint\n",
    "from parser import *\n",
    "import os\n",
    "from selenium import webdriver\n",
    "from time import sleep\n",
    "import re\n",
    "\n",
    "client = MongoClient(\"localhost\", 27017)\n",
    "db = client.retraction_watch\n",
    "retracted = db.retracted"
   ]
  },
  {
   "cell_type": "code",
   "execution_count": 29,
   "metadata": {},
   "outputs": [],
   "source": [
    "d = Counter()"
   ]
  },
  {
   "cell_type": "markdown",
   "metadata": {},
   "source": [
    "# Scrape RetractionWatchDB\n",
    "Executes scraper to insert into mongodb"
   ]
  },
  {
   "cell_type": "code",
   "execution_count": 36,
   "metadata": {},
   "outputs": [
    {
     "data": {
      "text/plain": [
       "2"
      ]
     },
     "execution_count": 36,
     "metadata": {},
     "output_type": "execute_result"
    }
   ],
   "source": [
    "d[\"S\"]"
   ]
  },
  {
   "cell_type": "code",
   "execution_count": 35,
   "metadata": {},
   "outputs": [],
   "source": [
    "d[\"S\"] += 1"
   ]
  },
  {
   "cell_type": "code",
   "execution_count": 2,
   "metadata": {},
   "outputs": [],
   "source": [
    "driver = webdriver.Chrome(\"chromedriver\")\n",
    "driver.get(\"http://retractiondatabase.org\")"
   ]
  },
  {
   "cell_type": "markdown",
   "metadata": {},
   "source": [
    "Select Reason(s) for retraction\n",
    " - concerns about data\n",
    " - concerns about results\n",
    " - conflict of interest\n",
    " - doint the right thing\n",
    " - euphamisms for misconduct\n",
    " - falsification/fabrication of data\n",
    " - falsification/fabrication of results\n",
    " - misconduct by author"
   ]
  },
  {
   "cell_type": "code",
   "execution_count": 29,
   "metadata": {},
   "outputs": [],
   "source": [
    "html = driver.page_source\n",
    "soup = BeautifulSoup(html, \"lxml\")\n",
    "read_to_mongo(soup, retracted)"
   ]
  },
  {
   "cell_type": "markdown",
   "metadata": {},
   "source": [
    "# Get full text of retracted articles"
   ]
  },
  {
   "cell_type": "code",
   "execution_count": 39,
   "metadata": {},
   "outputs": [],
   "source": [
    "retracted_pubmed = list(retracted.find(\n",
    "    {\"publication.pubmed_id\":{\"$exists\":1,\"$ne\":\"00000000\"},\n",
    "     \"links\": {\"$exists\":0},\n",
    "     \"text\": {\"$exists\":0}}))"
   ]
  },
  {
   "cell_type": "code",
   "execution_count": 40,
   "metadata": {},
   "outputs": [
    {
     "data": {
      "text/plain": [
       "54"
      ]
     },
     "execution_count": 40,
     "metadata": {},
     "output_type": "execute_result"
    }
   ],
   "source": [
    "len(retracted_pubmed)"
   ]
  },
  {
   "cell_type": "code",
   "execution_count": 4,
   "metadata": {},
   "outputs": [
    {
     "data": {
      "text/plain": [
       "dict_keys(['_id', 'rwdb_id', 'title', 'subjects', 'journal', 'publisher', 'institutions', 'reasons', 'authors', 'publication', 'retraction', 'doc_types', 'notice_type', 'countries', 'notes'])"
      ]
     },
     "execution_count": 4,
     "metadata": {},
     "output_type": "execute_result"
    }
   ],
   "source": [
    "retracted_pubmed[0].keys()"
   ]
  },
  {
   "cell_type": "code",
   "execution_count": 13,
   "metadata": {},
   "outputs": [],
   "source": [
    "pubmed_ids = [ a[\"publication\"][\"pubmed_id\"] for a in retracted_pubmed ]\n"
   ]
  },
  {
   "cell_type": "markdown",
   "metadata": {},
   "source": [
    "## Sanity check"
   ]
  },
  {
   "cell_type": "code",
   "execution_count": 14,
   "metadata": {},
   "outputs": [
    {
     "name": "stdout",
     "output_type": "stream",
     "text": [
      "54 7862147\n",
      "53\n"
     ]
    }
   ],
   "source": [
    "print(len(pubmed_ids), pubmed_ids[0])\n",
    "print(len(set(pubmed_ids)))\n"
   ]
  },
  {
   "cell_type": "code",
   "execution_count": 240,
   "metadata": {
    "scrolled": true
   },
   "outputs": [
    {
     "data": {
      "text/plain": [
       "'10050223'"
      ]
     },
     "execution_count": 240,
     "metadata": {},
     "output_type": "execute_result"
    }
   ],
   "source": [
    "s = set()\n",
    "duplicates = []\n",
    "for n in pubmed_ids:\n",
    "    if n not in s:\n",
    "        s.add(n)\n",
    "    else:\n",
    "        duplicates.append(n)\n",
    "sorted(duplicates)[0]"
   ]
  },
  {
   "cell_type": "code",
   "execution_count": 241,
   "metadata": {},
   "outputs": [],
   "source": [
    "wtf = retracted.find({\"publication.pubmed_id\":\"10050223\"}, {\"_id\":0})"
   ]
  },
  {
   "cell_type": "code",
   "execution_count": 242,
   "metadata": {},
   "outputs": [
    {
     "name": "stdout",
     "output_type": "stream",
     "text": [
      "Same title: True\n",
      "Same journal: True\n",
      "Same notice type: False\n"
     ]
    }
   ],
   "source": [
    "def compare(docs, attr):\n",
    "    first = docs[0][attr]\n",
    "    same = [first==doc[attr] for doc in docs]\n",
    "    return all(same)\n",
    "    \n",
    "wtf = list(wtf)\n",
    "print(\"Same title:\",compare(wtf,\"title\"))\n",
    "print(\"Same journal:\",compare(wtf,\"journal\"))\n",
    "print(\"Same notice type:\", compare(wtf, \"notice_type\"))"
   ]
  },
  {
   "cell_type": "code",
   "execution_count": 230,
   "metadata": {},
   "outputs": [
    {
     "name": "stdout",
     "output_type": "stream",
     "text": [
      "Notice types: Retraction , Expression of concern\n"
     ]
    }
   ],
   "source": [
    "print(\"Notice types:\",wtf[0][\"notice_type\"],\",\",wtf[1][\"notice_type\"])"
   ]
  },
  {
   "cell_type": "markdown",
   "metadata": {},
   "source": [
    "Most are like that. Multiple notices on the same article. Be advised to avoid duplicating topics.\n",
    "\n",
    "Some are corrupted IDs, missing a digit and lead nowhere. These should be caught by the parser."
   ]
  },
  {
   "cell_type": "markdown",
   "metadata": {},
   "source": [
    "## Actually insert"
   ]
  },
  {
   "cell_type": "code",
   "execution_count": 10,
   "metadata": {},
   "outputs": [],
   "source": [
    "driver = webdriver.Chrome(\"chromedriver\")\n",
    "for pm_id in set(pubmed_ids):\n",
    "    fulltext = get_fulltext(pm_id, driver)\n",
    "    if not fulltext:\n",
    "        continue\n",
    "    retracted.update_many(\n",
    "        {\"publication.pubmed_id\":pm_id},\n",
    "        {\"$set\": fulltext}\n",
    "    )"
   ]
  },
  {
   "cell_type": "code",
   "execution_count": 46,
   "metadata": {},
   "outputs": [
    {
     "data": {
      "text/plain": [
       "'7862147'"
      ]
     },
     "execution_count": 46,
     "metadata": {},
     "output_type": "execute_result"
    }
   ],
   "source": [
    "pubmed_ids[0]"
   ]
  },
  {
   "cell_type": "code",
   "execution_count": 44,
   "metadata": {},
   "outputs": [
    {
     "data": {
      "text/plain": [
       "[{'_id': ObjectId('5b099c278e32411cbf535316'),\n",
       "  'authors': ['Maria Teresa Berlingieri',\n",
       "   'Guidalberto Manfioletti',\n",
       "   'Massimo Santoro',\n",
       "   'Antonella Bandiera',\n",
       "   'Roberta Visconti',\n",
       "   'Vincenzo Giancotti',\n",
       "   'Alfredo Fusco'],\n",
       "  'countries': ['Italy'],\n",
       "  'doc_types': ['Research Article'],\n",
       "  'institutions': ['Centro di Endocrinologia ed Oncologia Sperimentale, Consiglio Nazionale delle Ricerche, Facoltà di Medicina e Chirurgia, Università degli Studi di Napoli, Italy'],\n",
       "  'journal': 'Molecular and Cellular Biology ---American Society',\n",
       "  'notes': 'claire   176 cites   http://mcb.asm.org/content/38/6/e00662-17.full?sid=2e59bfe3-3ba3-42c8-9bad-5ad00ec2f9d9\\n\\nVolume 15, no. 3, p. 1545–1553, 1995, https://doi.org/10.1128/MCB.15.3.1545. The publisher hereby retracts this article. Questions have been raised by concerned readers about the integrity of the data. The American Society for Microbiology has reviewed the figures and confirmed evidence of apparent manipulation and duplication. Since the integrity of the data as presented was compromised, this publication is retracted in its entirety. We apologize to the readers of Molecular and Cellular Biology and regret any inconvenience that this causes. The authors did not agree to this retraction.',\n",
       "  'notice_type': 'Retraction',\n",
       "  'publication': {'date': datetime.datetime(1995, 3, 1, 0, 0),\n",
       "   'doi': '10.1128/MCB.15.3.1545',\n",
       "   'pubmed_id': '7862147'},\n",
       "  'publisher': 'American Society for Microbiology',\n",
       "  'reasons': ['Concerns/Issues About Data',\n",
       "   'Duplication of Image',\n",
       "   'Investigation by Journal/Publisher',\n",
       "   'Manipulation of Images',\n",
       "   'Objections by Author(s)',\n",
       "   'Objections by Third Party'],\n",
       "  'retraction': {'date': datetime.datetime(2018, 3, 1, 0, 0),\n",
       "   'doi': '10.1128/MCB.00662-17',\n",
       "   'pubmed_id': '00000000'},\n",
       "  'rwdb_id': '17520',\n",
       "  'subjects': ['(BLS) Biology - Cellular',\n",
       "   '(BLS) Biology - Molecular',\n",
       "   '(BLS) Genetics'],\n",
       "  'title': 'Inhibition of HMGI-C Protein Synthesis Suppresses Retrovirally Induced Neoplastic Transformation of Rat Thyroid Cells'}]"
      ]
     },
     "execution_count": 44,
     "metadata": {},
     "output_type": "execute_result"
    }
   ],
   "source": [
    "list(retracted.find({\"publication.pubmed_id\":pubmed_ids[0]}))"
   ]
  },
  {
   "cell_type": "markdown",
   "metadata": {},
   "source": [
    "## Which parser should I build next?"
   ]
  },
  {
   "cell_type": "code",
   "execution_count": 252,
   "metadata": {},
   "outputs": [
    {
     "data": {
      "text/plain": [
       "'27687725'"
      ]
     },
     "execution_count": 252,
     "metadata": {},
     "output_type": "execute_result"
    }
   ],
   "source": [
    "pubmed_ids[0]"
   ]
  },
  {
   "cell_type": "code",
   "execution_count": 21,
   "metadata": {},
   "outputs": [],
   "source": [
    "from collections import Counter\n",
    "\n",
    "def trim_url(url):\n",
    "    url = re.sub(r\"^https?://\", \"\", url)\n",
    "    url = re.sub(r\"/.*\",\"\",url)\n",
    "    return url\n",
    "\n",
    "a = \"https://github.com/arstarsin/arosden\"\n",
    "print(trim_url(a))\n",
    "\n",
    "stems = Counter()"
   ]
  },
  {
   "cell_type": "code",
   "execution_count": 46,
   "metadata": {
    "collapsed": true
   },
   "outputs": [
    {
     "name": "stdout",
     "output_type": "stream",
     "text": [
      "0\n",
      "1\n",
      "2\n",
      "3\n",
      "4\n",
      "5\n",
      "6\n",
      "7\n",
      "8\n",
      "9\n",
      "10\n",
      "11\n",
      "12\n",
      "13\n",
      "14\n",
      "15\n",
      "16\n",
      "17\n",
      "18\n",
      "19\n",
      "20\n",
      "21\n",
      "22\n",
      "23\n",
      "24\n",
      "25\n",
      "26\n",
      "27\n",
      "28\n",
      "29\n",
      "30\n",
      "31\n",
      "32\n",
      "33\n",
      "34\n",
      "35\n",
      "36\n",
      "37\n",
      "38\n",
      "39\n",
      "40\n",
      "41\n",
      "42\n",
      "43\n",
      "44\n",
      "45\n",
      "46\n",
      "47\n",
      "48\n",
      "49\n",
      "50\n",
      "51\n",
      "52\n",
      "53\n",
      "54\n",
      "55\n",
      "56\n",
      "57\n",
      "58\n",
      "59\n",
      "60\n",
      "61\n",
      "62\n",
      "63\n",
      "64\n",
      "65\n",
      "66\n",
      "67\n",
      "68\n",
      "69\n",
      "70\n",
      "71\n",
      "72\n",
      "73\n",
      "74\n",
      "75\n",
      "76\n",
      "77\n",
      "78\n",
      "79\n",
      "80\n",
      "81\n",
      "82\n",
      "83\n",
      "84\n",
      "85\n",
      "86\n",
      "87\n",
      "88\n",
      "89\n",
      "90\n",
      "91\n",
      "92\n",
      "93\n",
      "94\n",
      "95\n",
      "96\n",
      "97\n",
      "98\n",
      "99\n"
     ]
    }
   ],
   "source": [
    "for i in range(100):\n",
    "    pubmed_id = retracted_pubmed[i][\"publication\"][\"pubmed_id\"]\n",
    "    sleep(5)\n",
    "    links = fulltext_links(pubmed_id)\n",
    "    print(i)\n",
    "    links = [trim_url(link) for link in links]\n",
    "    if \"www.ncbi.nlm.nih.gov\" in links:\n",
    "        stems[\"www.ncbi.nlm.nih.gov\"] += 1\n",
    "    else:\n",
    "        for link in links:\n",
    "            stems[link] += 1"
   ]
  },
  {
   "cell_type": "code",
   "execution_count": 47,
   "metadata": {},
   "outputs": [
    {
     "name": "stdout",
     "output_type": "stream",
     "text": [
      "Counter({'www.ncbi.nlm.nih.gov': 45, 'linkinghub.elsevier.com': 13, 'dx.doi.org': 10, 'Insights.ovid.com': 6, 'jamanetwork.com': 4, 'jcs.biologists.org': 4, 'www.neurology.org': 2, 'www.karger.com?DOI=10.1159': 2, 'diabetes.diabetesjournals.org': 2, 'www.researchprotocols.org': 1, 'archpedi.jamanetwork.com': 1, 'archinte.jamanetwork.com': 1, 'www.reproduction-online.org': 1, 'circheartfailure.ahajournals.org': 1, 'www.tandfonline.com': 1, 'joi.jlc.jst.go.jp': 1, 'journals.sagepub.com': 1, 'www.jbc.org': 1, 'www.liebertonline.com': 1})\n"
     ]
    }
   ],
   "source": [
    "print(stems)"
   ]
  },
  {
   "cell_type": "code",
   "execution_count": 68,
   "metadata": {},
   "outputs": [],
   "source": [
    "pm_ids = [p[\"publication\"][\"pubmed_id\"] for p in retracted_pubmed]\n",
    "fulltexts = [get_fulltext(a) for a in pm_ids[:2]]\n"
   ]
  },
  {
   "cell_type": "code",
   "execution_count": 86,
   "metadata": {},
   "outputs": [],
   "source": [
    "driver = webdriver.Chrome(\"chromedriver\")"
   ]
  },
  {
   "cell_type": "code",
   "execution_count": 91,
   "metadata": {},
   "outputs": [],
   "source": [
    "pm_ids = [p[\"publication\"][\"pubmed_id\"] for p in retracted_pubmed]\n",
    "fulltexts = [se_fulltext(a) for a in pm_ids[:10]]\n"
   ]
  }
 ],
 "metadata": {
  "kernelspec": {
   "display_name": "Python 3",
   "language": "python",
   "name": "python3"
  },
  "language_info": {
   "codemirror_mode": {
    "name": "ipython",
    "version": 3
   },
   "file_extension": ".py",
   "mimetype": "text/x-python",
   "name": "python",
   "nbconvert_exporter": "python",
   "pygments_lexer": "ipython3",
   "version": "3.6.5"
  }
 },
 "nbformat": 4,
 "nbformat_minor": 2
}
