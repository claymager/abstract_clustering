{
 "cells": [
  {
   "cell_type": "markdown",
   "metadata": {},
   "source": [
    "# Setup\n",
    "Initializes connections to mongodb."
   ]
  },
  {
   "cell_type": "code",
   "execution_count": 140,
   "metadata": {},
   "outputs": [
    {
     "name": "stdout",
     "output_type": "stream",
     "text": [
      "The autoreload extension is already loaded. To reload it, use:\n",
      "  %reload_ext autoreload\n"
     ]
    }
   ],
   "source": [
    "%load_ext autoreload\n",
    "%autoreload 2\n",
    "\n",
    "from bs4 import BeautifulSoup\n",
    "from pymongo import MongoClient\n",
    "import pprint\n",
    "from parser import *\n",
    "import os\n",
    "from selenium import webdriver\n",
    "from time import sleep\n",
    "import re\n",
    "from collections import Counter\n",
    "\n",
    "client = MongoClient(\"localhost\", 27017)\n",
    "db = client.retraction_watch\n",
    "retracted = db.retracted"
   ]
  },
  {
   "cell_type": "code",
   "execution_count": 29,
   "metadata": {},
   "outputs": [],
   "source": [
    "d = Counter()"
   ]
  },
  {
   "cell_type": "code",
   "execution_count": 36,
   "metadata": {},
   "outputs": [
    {
     "data": {
      "text/plain": [
       "2"
      ]
     },
     "execution_count": 36,
     "metadata": {},
     "output_type": "execute_result"
    }
   ],
   "source": [
    "d[\"S\"]"
   ]
  },
  {
   "cell_type": "code",
   "execution_count": 35,
   "metadata": {},
   "outputs": [],
   "source": [
    "d[\"S\"] += 1"
   ]
  },
  {
   "cell_type": "code",
   "execution_count": null,
   "metadata": {},
   "outputs": [],
   "source": []
  },
  {
   "cell_type": "markdown",
   "metadata": {},
   "source": [
    "### Scrape RetractionWatchDB\n",
    "Executes scraper to insert into mongodb"
   ]
  },
  {
   "cell_type": "code",
   "execution_count": 2,
   "metadata": {},
   "outputs": [],
   "source": [
    "driver = webdriver.Chrome(\"chromedriver\")\n",
    "driver.get(\"http://retractiondatabase.org\")"
   ]
  },
  {
   "cell_type": "markdown",
   "metadata": {},
   "source": [
    "Select Reason(s) for retraction\n",
    " - concerns about data\n",
    " - concerns about results\n",
    " - conflict of interest\n",
    " - doint the right thing\n",
    " - euphamisms for misconduct\n",
    " - falsification/fabrication of data\n",
    " - falsification/fabrication of results\n",
    " - misconduct by author"
   ]
  },
  {
   "cell_type": "code",
   "execution_count": 29,
   "metadata": {},
   "outputs": [],
   "source": [
    "html = driver.page_source\n",
    "soup = BeautifulSoup(html, \"lxml\")\n",
    "read_to_mongo(soup, retracted)"
   ]
  },
  {
   "cell_type": "code",
   "execution_count": 3,
   "metadata": {},
   "outputs": [],
   "source": [
    "retracted_pubmed = list(retracted.find({\"publication.pubmed_id\":{\"$exists\":1,\"$ne\":\"00000000\"}}))"
   ]
  },
  {
   "cell_type": "code",
   "execution_count": 4,
   "metadata": {},
   "outputs": [
    {
     "data": {
      "text/plain": [
       "dict_keys(['_id', 'rwdb_id', 'title', 'subjects', 'journal', 'publisher', 'institutions', 'reasons', 'authors', 'publication', 'retraction', 'doc_types', 'notice_type', 'countries', 'notes'])"
      ]
     },
     "execution_count": 4,
     "metadata": {},
     "output_type": "execute_result"
    }
   ],
   "source": [
    "retracted_pubmed[0].keys()"
   ]
  },
  {
   "cell_type": "code",
   "execution_count": 21,
   "metadata": {},
   "outputs": [],
   "source": [
    "def trim_url(url):\n",
    "    url = re.sub(r\"^https?://\", \"\", url)\n",
    "    url = re.sub(r\"/.*\",\"\",url)\n",
    "    return url"
   ]
  },
  {
   "cell_type": "code",
   "execution_count": 22,
   "metadata": {},
   "outputs": [
    {
     "data": {
      "text/plain": [
       "'github.com'"
      ]
     },
     "execution_count": 22,
     "metadata": {},
     "output_type": "execute_result"
    }
   ],
   "source": [
    "a = \"https://github.com/arstarsin/arosden\"\n",
    "trim_url(a)"
   ]
  },
  {
   "cell_type": "code",
   "execution_count": 44,
   "metadata": {},
   "outputs": [],
   "source": [
    "stems = Counter()"
   ]
  },
  {
   "cell_type": "code",
   "execution_count": 46,
   "metadata": {
    "collapsed": true
   },
   "outputs": [
    {
     "name": "stdout",
     "output_type": "stream",
     "text": [
      "0\n",
      "1\n",
      "2\n",
      "3\n",
      "4\n",
      "5\n",
      "6\n",
      "7\n",
      "8\n",
      "9\n",
      "10\n",
      "11\n",
      "12\n",
      "13\n",
      "14\n",
      "15\n",
      "16\n",
      "17\n",
      "18\n",
      "19\n",
      "20\n",
      "21\n",
      "22\n",
      "23\n",
      "24\n",
      "25\n",
      "26\n",
      "27\n",
      "28\n",
      "29\n",
      "30\n",
      "31\n",
      "32\n",
      "33\n",
      "34\n",
      "35\n",
      "36\n",
      "37\n",
      "38\n",
      "39\n",
      "40\n",
      "41\n",
      "42\n",
      "43\n",
      "44\n",
      "45\n",
      "46\n",
      "47\n",
      "48\n",
      "49\n",
      "50\n",
      "51\n",
      "52\n",
      "53\n",
      "54\n",
      "55\n",
      "56\n",
      "57\n",
      "58\n",
      "59\n",
      "60\n",
      "61\n",
      "62\n",
      "63\n",
      "64\n",
      "65\n",
      "66\n",
      "67\n",
      "68\n",
      "69\n",
      "70\n",
      "71\n",
      "72\n",
      "73\n",
      "74\n",
      "75\n",
      "76\n",
      "77\n",
      "78\n",
      "79\n",
      "80\n",
      "81\n",
      "82\n",
      "83\n",
      "84\n",
      "85\n",
      "86\n",
      "87\n",
      "88\n",
      "89\n",
      "90\n",
      "91\n",
      "92\n",
      "93\n",
      "94\n",
      "95\n",
      "96\n",
      "97\n",
      "98\n",
      "99\n"
     ]
    }
   ],
   "source": [
    "for i in range(100):\n",
    "    pubmed_id = retracted_pubmed[i][\"publication\"][\"pubmed_id\"]\n",
    "    sleep(5)\n",
    "    links = fulltext_links(pubmed_id)\n",
    "    print(i)\n",
    "    links = [trim_url(link) for link in links]\n",
    "    if \"www.ncbi.nlm.nih.gov\" in links:\n",
    "        stems[\"www.ncbi.nlm.nih.gov\"] += 1\n",
    "    else:\n",
    "        for link in links:\n",
    "            stems[link] += 1"
   ]
  },
  {
   "cell_type": "code",
   "execution_count": 47,
   "metadata": {},
   "outputs": [
    {
     "name": "stdout",
     "output_type": "stream",
     "text": [
      "Counter({'www.ncbi.nlm.nih.gov': 45, 'linkinghub.elsevier.com': 13, 'dx.doi.org': 10, 'Insights.ovid.com': 6, 'jamanetwork.com': 4, 'jcs.biologists.org': 4, 'www.neurology.org': 2, 'www.karger.com?DOI=10.1159': 2, 'diabetes.diabetesjournals.org': 2, 'www.researchprotocols.org': 1, 'archpedi.jamanetwork.com': 1, 'archinte.jamanetwork.com': 1, 'www.reproduction-online.org': 1, 'circheartfailure.ahajournals.org': 1, 'www.tandfonline.com': 1, 'joi.jlc.jst.go.jp': 1, 'journals.sagepub.com': 1, 'www.jbc.org': 1, 'www.liebertonline.com': 1})\n"
     ]
    }
   ],
   "source": [
    "print(stems)"
   ]
  },
  {
   "cell_type": "code",
   "execution_count": 68,
   "metadata": {},
   "outputs": [],
   "source": [
    "pm_ids = [p[\"publication\"][\"pubmed_id\"] for p in retracted_pubmed]\n",
    "fulltexts = [get_fulltext(a) for a in pm_ids[:2]]\n"
   ]
  },
  {
   "cell_type": "code",
   "execution_count": 86,
   "metadata": {},
   "outputs": [],
   "source": [
    "driver = webdriver.Chrome(\"chromedriver\")"
   ]
  },
  {
   "cell_type": "code",
   "execution_count": 88,
   "metadata": {},
   "outputs": [],
   "source": [
    "def se_fulltext(pubmed_id):\n",
    "    links = fulltext_links( pubmed_id )\n",
    "    for url_stem in known_parsers:\n",
    "        for url in links:\n",
    "            if url_stem in url:\n",
    "                driver.get(url)\n",
    "                sleep(5)\n",
    "                html = driver.page_source\n",
    "                soup = BeautifulSoup( html, \"lxml\" )\n",
    "                return known_parsers[url_stem](soup)\n",
    "    return {\"links\": links}\n"
   ]
  },
  {
   "cell_type": "code",
   "execution_count": 90,
   "metadata": {},
   "outputs": [],
   "source": [
    "\n",
    "def parse_ncbi_fulltext( soup ):\n",
    "    \"\"\"\n",
    "    Soup → Dict\n",
    "    \"\"\"\n",
    "    article_soup = soup.find(class_=\"jig-ncbiinpagenav\")\n",
    "    return soup\n",
    "\n",
    "known_parsers = {\"ncbi.nlm.nih.gov\": parse_ncbi_fulltext}\n",
    "\n"
   ]
  },
  {
   "cell_type": "code",
   "execution_count": 91,
   "metadata": {},
   "outputs": [],
   "source": [
    "pm_ids = [p[\"publication\"][\"pubmed_id\"] for p in retracted_pubmed]\n",
    "fulltexts = [se_fulltext(a) for a in pm_ids[:10]]\n"
   ]
  },
  {
   "cell_type": "code",
   "execution_count": 98,
   "metadata": {},
   "outputs": [],
   "source": [
    "articles = [a for a in fulltexts if type(a) != dict]"
   ]
  },
  {
   "cell_type": "code",
   "execution_count": 101,
   "metadata": {},
   "outputs": [
    {
     "data": {
      "text/plain": [
       "[bs4.element.Tag,\n",
       " bs4.element.Tag,\n",
       " bs4.element.Tag,\n",
       " bs4.element.Tag,\n",
       " bs4.element.Tag]"
      ]
     },
     "execution_count": 101,
     "metadata": {},
     "output_type": "execute_result"
    }
   ],
   "source": [
    "[type(a) for a in articles]"
   ]
  },
  {
   "cell_type": "code",
   "execution_count": 72,
   "metadata": {},
   "outputs": [
    {
     "data": {
      "text/plain": [
       "'27687725'"
      ]
     },
     "execution_count": 72,
     "metadata": {},
     "output_type": "execute_result"
    }
   ],
   "source": [
    "pm_ids[0]"
   ]
  },
  {
   "cell_type": "code",
   "execution_count": 100,
   "metadata": {},
   "outputs": [],
   "source": [
    "articles = [soup.find(class_=\"jig-ncbiinpagenav\") for soup in articles]"
   ]
  },
  {
   "cell_type": "code",
   "execution_count": 104,
   "metadata": {},
   "outputs": [],
   "source": [
    "children = [list(a.children) for a in articles]"
   ]
  },
  {
   "cell_type": "code",
   "execution_count": 112,
   "metadata": {},
   "outputs": [
    {
     "name": "stdout",
     "output_type": "stream",
     "text": [
      "\n",
      "\n",
      "ARTICLE 0\n",
      "{'class': ['fm-sec', 'half_rhythm', 'no_top_margin']}\n",
      "{'class': ['sec']}\n",
      "{'id': 'idm139912024031152', 'lang': 'en', 'class': ['tsec', 'sec']}\n",
      "{'id': '__sec1', 'class': ['tsec', 'sec']}\n",
      "{'id': '__sec2', 'class': ['tsec', 'sec']}\n",
      "{'id': '__sec10', 'class': ['tsec', 'sec']}\n",
      "{'id': '__sec11', 'class': ['tsec', 'sec']}\n",
      "{'id': '__sec25', 'class': ['tsec', 'sec']}\n",
      "{'id': 'idm139912012260944', 'class': ['tsec', 'sec', 'headless', 'whole_rhythm']}\n",
      "{'id': 'idm139912028433408', 'class': ['tsec', 'sec', 'headless', 'whole_rhythm']}\n",
      "{'id': 'idm139912096824288', 'class': ['tsec', 'sec']}\n",
      "{'style': 'display: none; width: 200px; top: -100px; left: -100px;', 'aria-live': 'assertive', 'aria-hidden': 'true', 'class': ['ui-helper-reset', 'ui-ncbipopper-wrapper', 'ui-ncbilinksmenu']}\n",
      "\n",
      "\n",
      "ARTICLE 1\n",
      "{'class': ['fm-sec', 'half_rhythm', 'no_top_margin']}\n",
      "{'class': ['sec']}\n",
      "{'id': 'idm140263020463216', 'lang': 'en', 'class': ['tsec', 'sec']}\n",
      "{'id': '__sec1', 'class': ['tsec', 'sec']}\n",
      "{'id': '__sec2', 'class': ['tsec', 'sec']}\n",
      "{'id': '__sec10', 'class': ['tsec', 'sec']}\n",
      "{'id': '__sec16', 'class': ['tsec', 'sec']}\n",
      "{'id': 'idm140263049417440', 'class': ['tsec', 'sec']}\n",
      "{'id': 'idm140263049416432', 'class': ['tsec', 'sec']}\n",
      "{'style': 'display: none; width: 200px; top: -100px; left: -100px;', 'aria-live': 'assertive', 'aria-hidden': 'true', 'class': ['ui-helper-reset', 'ui-ncbipopper-wrapper', 'ui-ncbilinksmenu']}\n",
      "\n",
      "\n",
      "ARTICLE 2\n",
      "{'class': ['fm-sec', 'half_rhythm', 'no_top_margin']}\n",
      "{'class': ['sec']}\n",
      "{'id': 'idm140038814503824', 'lang': 'en', 'class': ['tsec', 'sec']}\n",
      "{'id': '__sec7', 'class': ['tsec', 'sec']}\n",
      "{'id': '__sec8', 'class': ['tsec', 'sec']}\n",
      "{'id': '__sec19', 'class': ['tsec', 'sec']}\n",
      "{'id': '__sec23', 'class': ['tsec', 'sec']}\n",
      "{'id': 'idm140038818038496', 'class': ['tsec', 'sec']}\n",
      "{'id': 'idm140038815143872', 'class': ['tsec', 'sec']}\n",
      "{'id': 'app1', 'class': ['tsec', 'sec']}\n",
      "{'id': 'app2', 'class': ['tsec', 'sec']}\n",
      "{'id': 'app3', 'class': ['tsec', 'sec']}\n",
      "{'id': 'app4', 'class': ['tsec', 'sec']}\n",
      "{'id': 'idm140038818037616', 'class': ['tsec', 'sec']}\n",
      "{'id': 'idm140038802736784', 'class': ['tsec', 'sec']}\n",
      "{'style': 'display: none; width: 200px; top: -100px; left: -100px;', 'aria-live': 'assertive', 'aria-hidden': 'true', 'class': ['ui-helper-reset', 'ui-ncbipopper-wrapper', 'ui-ncbilinksmenu']}\n",
      "\n",
      "\n",
      "ARTICLE 3\n",
      "{'class': ['fm-sec', 'half_rhythm', 'no_top_margin']}\n",
      "{'class': ['sec']}\n",
      "{'id': 'idm140352638953072', 'lang': 'en', 'class': ['tsec', 'sec']}\n",
      "{'id': 's1', 'class': ['tsec', 'sec']}\n",
      "{'id': 's2', 'class': ['tsec', 'sec']}\n",
      "{'id': 's3', 'class': ['tsec', 'sec']}\n",
      "{'id': 's4', 'class': ['tsec', 'sec']}\n",
      "{'id': 'idm140352636406624', 'class': ['tsec', 'sec']}\n",
      "{'id': 'idm140352636509840', 'class': ['tsec', 'sec']}\n",
      "{'id': 'idm140352636406000', 'class': ['tsec', 'sec']}\n",
      "{'style': 'display: none; width: 200px; top: -100px; left: -100px;', 'aria-live': 'assertive', 'aria-hidden': 'true', 'class': ['ui-helper-reset', 'ui-ncbipopper-wrapper', 'ui-ncbilinksmenu']}\n",
      "\n",
      "\n",
      "ARTICLE 4\n",
      "{'class': ['fm-sec', 'half_rhythm', 'no_top_margin']}\n",
      "{'class': ['sec']}\n",
      "{'id': 'idm140507108463392', 'lang': 'en', 'class': ['tsec', 'sec']}\n",
      "{'id': 'sec1', 'class': ['tsec', 'sec']}\n",
      "{'id': 'sec2', 'class': ['tsec', 'sec']}\n",
      "{'id': 'sec3', 'class': ['tsec', 'sec']}\n",
      "{'id': 'sec4', 'class': ['tsec', 'sec']}\n",
      "{'id': 'idm140507143032672', 'class': ['tsec', 'sec']}\n",
      "{'id': '__sec1', 'class': ['tsec', 'bk-sec']}\n",
      "{'id': 'idm140507081393904', 'class': ['tsec', 'sec']}\n",
      "{'style': 'display: none; width: 200px; top: -100px; left: -100px;', 'aria-live': 'assertive', 'aria-hidden': 'true', 'class': ['ui-helper-reset', 'ui-ncbipopper-wrapper', 'ui-ncbilinksmenu']}\n"
     ]
    }
   ],
   "source": [
    "for i, a in enumerate(children):\n",
    "    print(\"\\n\\nARTICLE {}\".format(i))\n",
    "    for child in a:\n",
    "            try:\n",
    "                print (child.attrs)\n",
    "            except AttributeError:\n",
    "                print (child)"
   ]
  },
  {
   "cell_type": "code",
   "execution_count": 133,
   "metadata": {},
   "outputs": [],
   "source": [
    "sections = [s for s in fulltexts[0].find_all(class_=\"tsec\")]"
   ]
  },
  {
   "cell_type": "code",
   "execution_count": 134,
   "metadata": {},
   "outputs": [
    {
     "data": {
      "text/plain": [
       "<div class=\"tsec sec\" id=\"idm139912024031152\" lang=\"en\"><div class=\"goto jig-ncbiinpagenav-goto-container\"><span role=\"menubar\"><a aria-expanded=\"false\" aria-haspopup=\"true\" class=\"tgt_dark page-toc-label jig-ncbiinpagenav-goto-heading\" href=\"#\" role=\"menuitem\" title=\"Go to other sections in this page\">Go to:</a></span></div><h2 class=\"head no_bottom_margin ui-helper-clearfix\" id=\"idm139912024031152title\">Abstract</h2><!--article-meta--><div><p class=\"p p-first-last\" id=\"__p2\">Peroxisome proliferator-activated receptor γ (PPARγ) and runt-related transcription factor 2 (RUNX2) are key regulators of mesenchymal stem cell (MSC) differentiation toward adipocytes and osteoblasts, respectively. Post-translational modifications of these factors determine their activities. Dephosphorylation of PPARγ at Ser-112 is required for its adipocytic activity, whereas phosphorylation of RUNX2 at serine 319 (Ser-319) promotes its osteoblastic activity. Here we show that protein phosphatase 5 (PP5) reciprocally regulates each receptor by targeting each serine. Mice deficient in PP5 phosphatase have increased osteoblast numbers and high bone formation, which results in high bone mass in the appendicular and axial skeleton. This is associated with a substantial decrease in lipid-containing marrow adipocytes. Indeed, in the absence of PP5 the MSC lineage allocation is skewed toward osteoblasts and away from lipid accumulating adipocytes, although an increase in beige adipocyte gene expression is observed. In the presence of rosiglitazone, PP5 translocates to the nucleus, binds to PPARγ and RUNX2, and dephosphorylates both factors, resulting in activation of PPARγ adipocytic and suppression of RUNX2 osteoblastic activities. Moreover, shRNA knockdown of PP5 results in cells refractory to rosiglitazone treatment. Lastly, mice deficient in PP5 are resistant to the negative effects of rosiglitazone on bone, which in wild type animals causes a 50% decrease in trabecular bone mass. In conclusion, PP5 is a unique phosphatase reciprocally regulating PPARγ and RUNX2 activities in marrow MSC.</p></div><div class=\"sec\"><strong class=\"kwd-title\">Keywords: </strong><span class=\"kwd-text\">adipocyte, bone, chaperone, mesenchymal stem cells (MSCs), osteoblast, osteocyte, peroxisome proliferator-activated receptor (PPAR), protein phosphatase</span></div></div>"
      ]
     },
     "execution_count": 134,
     "metadata": {},
     "output_type": "execute_result"
    }
   ],
   "source": [
    "sections[0]"
   ]
  },
  {
   "cell_type": "code",
   "execution_count": 138,
   "metadata": {},
   "outputs": [
    {
     "name": "stdout",
     "output_type": "stream",
     "text": [
      "5\n"
     ]
    }
   ],
   "source": [
    "print(5)"
   ]
  },
  {
   "cell_type": "code",
   "execution_count": 145,
   "metadata": {},
   "outputs": [
    {
     "name": "stdout",
     "output_type": "stream",
     "text": [
      "adipocyte, bone, chaperone, mesenchymal stem cells (MSCs), osteoblast, osteocyte, peroxisome proliferator-activated receptor (PPAR), protein phosphatase\n"
     ]
    },
    {
     "data": {
      "text/plain": [
       "{'abstract': 'Peroxisome proliferator-activated receptor γ (PPARγ) and runt-related transcription factor 2 (RUNX2) are key regulators of mesenchymal stem cell (MSC) differentiation toward adipocytes and osteoblasts, respectively. Post-translational modifications of these factors determine their activities. Dephosphorylation of PPARγ at Ser-112 is required for its adipocytic activity, whereas phosphorylation of RUNX2 at serine 319 (Ser-319) promotes its osteoblastic activity. Here we show that protein phosphatase 5 (PP5) reciprocally regulates each receptor by targeting each serine. Mice deficient in PP5 phosphatase have increased osteoblast numbers and high bone formation, which results in high bone mass in the appendicular and axial skeleton. This is associated with a substantial decrease in lipid-containing marrow adipocytes. Indeed, in the absence of PP5 the MSC lineage allocation is skewed toward osteoblasts and away from lipid accumulating adipocytes, although an increase in beige adipocyte gene expression is observed. In the presence of rosiglitazone, PP5 translocates to the nucleus, binds to PPARγ and RUNX2, and dephosphorylates both factors, resulting in activation of PPARγ adipocytic and suppression of RUNX2 osteoblastic activities. Moreover, shRNA knockdown of PP5 results in cells refractory to rosiglitazone treatment. Lastly, mice deficient in PP5 are resistant to the negative effects of rosiglitazone on bone, which in wild type animals causes a 50% decrease in trabecular bone mass. In conclusion, PP5 is a unique phosphatase reciprocally regulating PPARγ and RUNX2 activities in marrow MSC.',\n",
       " 'keywords': ['adipocyte',\n",
       "  'bone',\n",
       "  'chaperone',\n",
       "  'mesenchymal stem cells',\n",
       "  'osteoblast',\n",
       "  'osteocyte',\n",
       "  'peroxisome proliferator-activated receptor',\n",
       "  'protein phosphatase',\n",
       "  'MSCs',\n",
       "  'PPAR']}"
      ]
     },
     "execution_count": 145,
     "metadata": {},
     "output_type": "execute_result"
    }
   ],
   "source": [
    "parse_ncbi_abstract( sections[0])"
   ]
  },
  {
   "cell_type": "code",
   "execution_count": 148,
   "metadata": {},
   "outputs": [
    {
     "data": {
      "text/plain": [
       "[['Peroxisome proliferator-activated receptor γ (PPARγ) and runt-related transcription factor 2 (RUNX2) are key regulators of mesenchymal stem cell (MSC) differentiation toward adipocytes and osteoblasts, respectively. Post-translational modifications of these factors determine their activities. Dephosphorylation of PPARγ at Ser-112 is required for its adipocytic activity, whereas phosphorylation of RUNX2 at serine 319 (Ser-319) promotes its osteoblastic activity. Here we show that protein phosphatase 5 (PP5) reciprocally regulates each receptor by targeting each serine. Mice deficient in PP5 phosphatase have increased osteoblast numbers and high bone formation, which results in high bone mass in the appendicular and axial skeleton. This is associated with a substantial decrease in lipid-containing marrow adipocytes. Indeed, in the absence of PP5 the MSC lineage allocation is skewed toward osteoblasts and away from lipid accumulating adipocytes, although an increase in beige adipocyte gene expression is observed. In the presence of rosiglitazone, PP5 translocates to the nucleus, binds to PPARγ and RUNX2, and dephosphorylates both factors, resulting in activation of PPARγ adipocytic and suppression of RUNX2 osteoblastic activities. Moreover, shRNA knockdown of PP5 results in cells refractory to rosiglitazone treatment. Lastly, mice deficient in PP5 are resistant to the negative effects of rosiglitazone on bone, which in wild type animals causes a 50% decrease in trabecular bone mass. In conclusion, PP5 is a unique phosphatase reciprocally regulating PPARγ and RUNX2 activities in marrow MSC.'],\n",
       " ['MSC2 allocation toward adipocyte or osteoblast lineages relies on the balance between the activity of two transcription factors, PPARγ and RUNX2. PPARγ also regulates insulin sensitivity. The insulin sensitizing and pro-adipocytic activities of PPARγ are determined at the level of posttranscriptional modifications (PTMs), which include phosphorylation, acetylation, and sumoylation (1). Similarly, osteoblastic activity of RUNX2 is regulated by PTMs, among which serine phosphorylation is the most recognized (2). Dephosphorylation of PPARγ at Ser-112 determines its pro-adipocytic activity, whereas phosphorylation of RUNX2 at Ser-301 and Ser-319 promotes its pro-osteoblastic activity (1,–3). We recently reported that Ser-112 in PPARγ and Ser-301/Ser-319 in RUNX2 are phosphorylated by the same MAPK kinases, leading to activation of RUNX2 and inhibition of PPARγ activities (4). The reciprocity in PPARγ and RUNX2 activities determined by their phosphorylation status suggests that a common mechanism regulates their activities at the level of serine dephosphorylation.',\n",
       "  'PPARγ is a target of thiazolidinedione (TZD) class of anti-diabetic drugs with insulin sensitizing and pro-adipocytic activities. TZDs, including rosiglitazone and pioglitazone, unbalance bone remodeling, which results in bone loss and fractures (5,–8). The pathological effects of TZDs on bone are explained by decreased bone formation due to reduction in osteoblast number accompanied by an increase in marrow adipocyte number and increased bone resorption (6, 7). PPARγ preferentially stimulates differentiation of MSC to the adipocyte lineage by direct transcriptional regulation of adipocytic genes via binding to PPAR response elements (PPREs) at gene promoters. However, the mechanism by which osteoblast differentiation and gene expression are suppressed upon TZD treatment is less defined. An analysis of marrow MSC transcriptome in response to rosiglitazone showed robust changes in gene expression as soon as 2 h after treatment (9). These changes included up-regulation of adipocytic genes possessing multiple PPREs at promoters. However, down-regulated osteoblastic genes lacked PPREs in their promoters, suggesting that a PPARγ-independent mechanism may be involved in this process (9). We recently reported that prolonged treatment with rosiglitazone decreases MAPK activity and is associated with a decrease in RUNX2 phosphorylation at Ser-319 and transcriptional activity (4). However, the delayed TZD effect to decrease MAPK activity does not explain the rapid suppression by rosiglitazone of osteoblast-specific genes otherwise positively regulated by RUNX2 (9).',\n",
       "  'We recently identified protein phosphatase 5 (PP5) as responsible for dephosphorylation of Ser-112 and activation of PPARγ pro-adipocytic activity (10). PP5 is a unique member of the family of serine/threonine phosphoprotein phosphatases in that it contains a tetratricopeptide repeat (TPR) domain. Activation of PP5 requires binding of its TPR domain to the protein complex undergoing dephosphorylation (11). We reasoned that PP5 reciprocally regulates PPARγ and RUNX2 activities by binding to and dephosphorylating Ser-112pPPARγ and Ser-301,Ser-319pRUNX2 and that this regulates MSCs fate toward adipocytic and away from osteoblastic lineage. Here we show that PP5 regulates PPARγ and RUNX2 activities through selective dephosphorylation, is a major contributor to TZD-induced bone loss, and promotes the MSC shift toward adipogenesis and away from osteoblastogenesis.'],\n",
       " ['',\n",
       "  'The ability of PP5 protein phosphatase to dephosphorylate Ser-112pPPARγ and Ser-319pRUNX2 was examined in Cos7 cells ectopically expressing either PPARγ (intact or mutated at Ser-112) or RUNX2 (intact or mutated at Ser-301 and Ser-319) proteins. To ensure phosphorylation of Ser-112 and Ser-319 and assess PP5-specific activity toward these PTMs, Cos7 cells were co-transfected with either a construct expressing constitutively active MEK1 (Meksp or SP) and/or a construct expressing PP5. As shown in Fig. 1A, transfection of MEK1 increased basal levels of Ser-112pPPARγ (lane 2 compared with lane 1). PP5 decreased Ser-112pPPARγ basal levels (lane 3) and decreased MEK1-induced phosphorylation (lane 4). Substitution of serine 112 by alanine (S112A (or SA) mutant), which prevents phosphorylation, results in the absence of a detectable band for Ser-112pPPARγ in all tested conditions (lanes 5-8), demonstrating specificity of the assay. Similarly, levels of Ser-319pRUNX2 increased in the presence of MEK1 but decreased in the presence of PP5, and MEK1-induced phosphorylation of Ser-319 was reduced in the presence of PP5 (Fig. 1B). As expected, substitution of serine 319 by alanine in RUNX2 (SA mutant) led to loss of reactivity with anti-Ser-319pRUNX2 antibody. MEK1 is a threonine/tyrosine kinase that phosphorylates and activates MAPK via the extracellular signal-regulated kinases (ERK) pathway. Thus, the levels pERK serve as a control of MEK1 activity. As shown in Fig. 1, A and B, transfection of MEK1 increased pERK levels regardless of the presence of PP5 or functional phosphorylation sites in PPARγ or RUNX2. This indicates that MEK1 activity is not affected by PP5 and that Ser-112 and Ser-319 are direct targets for PP5 phosphatase activity.',\n",
       "  'PP5 phosphatase dephosphorylated PPARγ and RUNX2 leading to increased PPARγ and reduced RUNX2-specific transcriptional activity. To analyze an effect of Ser-112 phosphorylation on PPARγ activity, Cos7 cells were transfected with expression vectors for non- mutated (WT) or S112A-mutated (SA) PPARγ and either empty vector LacZ (C) or constitutively active MEK1 (SP) or PP5 or both (SP+PP5). Similarly, to analyze an effect of Ser-301/Ser-319 phosphorylation on RUNX2 activity, Cos7 cells were transfected with expression vectors for WT or S301A/S319A-mutated (SA) RUNX2, and either empty vector LacZ (C) or constitutively active MEK1 (SP) or PP5 or both (SP+PP5). Whole cell extracts were harvested 48 h post transfection and analyzed with Western blots. A, PP5 effect on PPARγ phosphorylation. Western blots were analyzed using antibodies specific to either phosphorylated Ser-112 of PPARγ (Ser-112pPPARγ) or against total PPARγ (T-PPARγ), or against phosphorylated Thr-202/Tyr-204 of ERK (P-ERK), or against total ERK (T-ERK). Graphs represent densitometry analysis of Western blots (n = 3–6). Signals from bands representing phosphorylated proteins were normalized to signals from total proteins. B, PP5 effect on RUNX2 phosphorylation. Blots were analyzed using either antibodies specific to phosphorylated Ser-319 of RUNX2 (Ser-319pRUNX2) or antibodies specific to total RUNX2 (T-RUNX2) or against phosphorylated Thr-202/Tyr-204 of ERK (P-ERK),or against total ERK (T-ERK). Graphs represent densitometry analysis as in A (n = 3–6). C, analysis of transcriptional activity of PPARγ. The same samples of Cos7 cells as in A expressing either C, SP, PP5, or SP+PP5 were co-transfected with PPRE-luc reporter plasmid and either expression vectors for WT or PPARγ phosphorylation mutants S112A (SA) and S112E (SE). PPARγ activity was measured after 48 h. Firefly luciferase activities were normalized to Renilla pyriformis luciferase activities. D, analysis of transcriptional activity of RUNX2. Samples of Cos7 cells as in B expressing either C, SP, PP5, or SP+PP5 were co-transfected with 6OSE2-luc reporter plasmid and either expression vectors for WT or RUNX2 phosphorylation mutants S301A/S319A (SA), and S301E/S319E (SE) and analyzed as in C. *, p < 0.05; **, p < 0.01; ***, p < 0.001.',\n",
       "  'Next, we tested how Ser-112 and Ser-319 PTMs correlate with transcriptional activities of both factors. Increased phosphorylation at Ser-112 by MEK1 resulted in decreased PPRE-mediated transcriptional activity of PPARγ (Fig. 1C). Overexpression of PP5 activated PPARγ; however, in the presence of MEK1 this activity returns to control level. The basal activity of the construct carrying the phosphorylation site mutation, S112A (SA), elevated PPARγ transcriptional activity, whereas the activity of a construct carrying S112E mutation (SE), which mimics phosphorylation of this site, significantly decreased PPARγ basal transcriptional activity. Neither SA nor SE constructs responded to PP5 with increased transcriptional activity (Fig. 1C). In conclusion, phosphorylation of Ser-112 inhibits PPARγ PPRE-specific transcriptional activity, a response that is reversed by PP5.',\n",
       "  'The effect of PP5 on transcriptional activity of RUNX2 is opposite to the effect on PPARγ (Fig. 1D). MEK-dependent phosphorylation at Ser-319 was associated with increased RUNX2 transcriptional activity, which was reduced to 50% in the presence of PP5. Serine to alanine mutations of the Ser-301 and Ser-319 sites also reduced MAPK-dependent transcriptional activity by 50%, and this activity was not reduced further by PP5. Because PP5 reduced MAPK-dependent Ser-319 phosphorylation to basal levels, we conclude that other non-PP5-sensitive sites also participate in MAPK regulation of RUNX2. As expected, the basal transcriptional activity of combined phosphomimetic mutant S301E/S319E (SE) was high and was not affected by any of the tested conditions.',\n",
       "  'The reciprocal regulation of PPARγ and RUNX2 activities was also observed in conditions of PP5 partial deficiency. Lentiviral expression of the shRNA to PP5 in bone marrow-derived bipotential U-33/γ2 cells, which reduced PP5 protein levels by 40%, resulted in a 40–50% increase in the levels of Ser-112pPPARγ and Ser-319pRUNX2 proteins (Fig. 2A). These correlated with decreased expression of PPARγ-regulated gene markers and with either increased expression of RUNX2-induced markers or with increased suppression of Axin2, which is negatively regulated by RUNX2 (Fig. 2B) (12).',\n",
       "  'PP5 knockdown increased PPARγ and RUNX2 phosphorylation leading to increased PPARγ and reduced RUNX2-specific transcriptional activity. A. to achieve stable knockdown of PP5 protein expression, U-33/γ2 cells were infected with lentiviral constructs encoding either scrambled (Sc) or PP5-specific (KD) shRNA. Whole cell extracts were analyzed by Western blot with antibodies specific to Ser(P)-112 of PPARγ, or Ser(P)-319 of RUNX2 and antibodies against total PPARγ and RUNX2. HSP90 protein levels served as a loading control. Graphs represent densitometry analysis of Western blots (n = 6). Signals from bands representing phosphorylated proteins were normalized to signals from total proteins. B, the effect of PP5 silencing in U-33/γ2 cells on expression of gene markers controlled by either PPARγ or RUNX2 transcriptional activities (n = 6). Graphs represent -fold change in expression of analyzed markers in KD as compared with scrambled conditions. All transcripts expression was normalized to 18S RNA. *, p < 0.05; **, p < 0.01; ***, p < 0.001.',\n",
       "  'In conclusion, PP5 phosphatase increased PPARγ transcriptional activity by dephosphorylating Ser-112 and simultaneously suppressed RUNX2 activities by dephosphorylating Ser-319.',\n",
       "  '',\n",
       "  'Mice, males and females, with global deficiency in PP5 (PP5KO) are characterized by high bone mass in axial and appendicular skeletons. Animals at the age of 5 months were used in all experiments because their skeleton is mature, and adipocyte accumulation in the marrow cavity, representing PPARγ transcriptional activity regulated by PP5, is detectable. The trabecular bone fractions in male proximal tibiae (Fig. 3A) and L4 vertebrae (Fig. 3C) are 70 and 40% higher, respectively, than wild type (WT) controls. Trabecular bone in tibiae of PP5KO mice have more trabeculae and a high degree of structural complexity, measured as connectivity density, whereas all trabecular parameters were increased in vertebrae, yielding an overall favorable microarchitecture (Table 1). Fat volume in the marrow of proximal tibiae is decreased substantially in PP5KO mice (Fig. 3B). PP5 deficiency increased cortical bone diameter and bone area but had no effect on cortical thickness (Table 2). It does, however, increase tissue mineralized density (TMD) in tibia midshaft, indicating a higher degree of mineralization. The increased mineralization of the midshaft is associated with increased strength, as indicated by increased polar moment of inertia, and resistance to bending across the maximal (Imax/Cmax) and minimal centroid-edge (Imin/Cmin) (Table 2).',\n",
       "  'PP5 deficiency increased bone mass and bone formation and reduced lipid content in the marrow.\\nA, mCT-generated coronal section images of trabecular bone in proximal tibia of 5-month-old male WT and PP5-deficient (PP5KO) mice. B, the same tibiae as in A stained for fat with osmium tetroxide. C, mCT renderings of trabecular bone in L4 vertebra. Graphs on panels A–C represent measurements of trabecular bone mass (BV/TV) and fat volume (FV/TV). FV, fat volume; TV, tissue volume. Bar, 1 mm. D, double calcein labeling of trabecular bone surface (magnification, ×40; bar, 0.02 mm). E, static and dynamic histomorphometry of trabecular bone in the proximal tibia of 5-month-old male mice. MAR, mineral apposition rate; N.Ob/B.Pm, osteoblast number/bone surface; N.Oc/B.Pm, osteoclast number/bone surface; Ob.N/Oc.N, ratio of osteoblast to osteoclast. F, gene expression analysis of osteoblasts freshly isolated from endosteal surface of femur. G, gene expression analysis of osteocytes freshly isolated from femur cortical bone. n = 4–6 animals per group. *, p < 0.05; **, p < 0.01 versus age-matched WT control.',\n",
       "  'Trabecular bone microarchitecture analyzed with mCT',\n",
       "  'BV/TV, bone volume fraction; Tb.N., trabecular number; Tb.Sp., trabecular separation; Tb.Th., trabecular thickness; Conn.D, connectivity density. n = 5 mice per group.',\n",
       "  'a p > 0.05 versus WT.',\n",
       "  'Cortical parameters of midshaft tibia analyzed with mCT',\n",
       "  'T.Ar, total area; B.Ar, bone area; M.Ar, marrow area; Ct.Th., cortical thickness; pMOI, polar moment of inertia; Imax/Cmax, resistance to bending measured across the bone by the distance along the maximal centroid-edge; Imin/Cmin, resistance to bending measured across the bone by the distance along the minimal centroid-edge; TMD, tissue mineralized density. n = 5 mice per group.',\n",
       "  'a p > 0.05 versus WT.',\n",
       "  'The increased bone mass in PP5KO mice correlates with increased osteoblast activity measured as a daily mineral apposition rate and bone formation rate (BFR) in tibia bone double-labeled with calcein (Fig. 3, D and E). This correlated with increased osteoblast numbers (Fig. 3E). Interestingly, osteoclast number was also elevated; however, the ratio of osteoblast to osteoclast was higher in PP5KO than in WT mice, suggesting higher bone formation over bone resorption (Fig. 3E).',\n",
       "  'The gene expression profile of osteoblasts freshly isolated from the endosteal surface of femora confirmed their increased activity in the absence of PP5. The expression of all three osteoblast-specific transcription factors (RUNX2, DLX5, and Osterix) and Wnt10b ligand were increased (Fig. 3F). Consequently, the expression of genes regulated by these transcription factors and controlling osteoblast maturation and bone mineralization, such as matrix extracellular phosphoglycoprotein (Mepe), phosphate regulating endopeptidase homolog (Phex), osteopontin (Spp1), and bone sialoprotein (Ibsp) were consistently up-regulated (Fig. 3F).',\n",
       "  'Osteoblast differentiation and bone formation are regulated by osteocytes, which produce sclerostin and DKK1, both proteins acting as inhibitors of Wnt signaling (13). The pattern of gene expression for these proteins in osteocytes freshly isolated from femur cortical bone of PP5KO mice was consistent with increased support for bone formation. Although the expression of Sost gene encoding sclerostin was not changed, the expression of Dkk1 was decreased by 4-fold (Fig. 3G). Similar to the osteoblast fraction, Wnt10b expression in osteocytes increased substantially, consistent with an elevation in Wnt signaling activity. Indeed, expression of Axin2, cyclin D (CycD), and connexin 43 (Cx43) is up-regulated consistent with Wnt pathway activation. Surprisingly, the expression of osteoprotegerin (Opg), which is known to be positively regulated by Wnt signaling, is decreased in osteocytes derived from PP5KO mice (Fig. 3G). Taken together, these results suggest increased support for bone formation by osteocytes deficient in PP5. Of note, expression of the marker of osteocyte maturation, Dmp1, did not differ between PP5KO and WT mice, indicating that osteocyte function, but not differentiation, is altered in PP5KO mice (Fig. 3G).',\n",
       "  '',\n",
       "  'To determine whether PP5 regulates lineage commitment of MSCs, the number of mesenchymal cells with a potential to form colonies differentiating toward osteoblast or adipocyte phenotypes were analyzed in ex vivo MSC cultures using a colony-forming unit assay (cfu). As shown in Fig. 4A, the number of MSCs with the ability to form fibroblast-like colonies was not different between PP5KO and WT animals. However, PP5 deficiency resulted in a lower potential to form adipocytic (CFU-AD) and a higher potential to form osteoblastic (CFU-OB) colonies (Fig. 4A). The role of PP5 in determining MSC differentiation potential was reflected by the pattern of osteoblast and adipocyte gene markers expressed. Thus, in basal conditions MSCs deficient in PP5 are characterized by higher expression of osteoblast-specific gene markers (Fig. 4B) and growth factors (Fig. 4C) and lower expression of white adipocyte-specific gene markers (CD36 and Lpl) (Fig. 4D) as compared with WT marrow MSCs. Interestingly, PP5 deficiency increased expression of brown adipocyte markers (Ucp1 and Prdm16) in these cells (Fig. 4D).',\n",
       "  'PP5 deficiency increased differentiation toward osteoblast while decreasing differentiation toward lipid containing adipocytes and stimulated beige-type adipocyte phenotype supporting osteoblast differentiation. Primary bone marrow cultures were established from the femora of 5-month-old WT and PP5KO male mice. A, ex vivo analysis of bone marrow MSCs potential to form fibroblast-like colonies (CFU-F), adipocyte colonies (CFU-AD), and osteoblast colonies (CFU-OB). Adipocyte and osteoblast differentiation was stimulated as described under “Experimental Procedures.” B–D, basal expression of osteoblast (B), osteoblast-specific growth factors (C), and adipocyte (D) gene markers measured in undifferentiated MSCs. Graphs represent -fold change in expression of analyzed markers in KO as compared with WT animals. All transcripts expression was normalized to 18S RNA. n = 3 animals per group. E, lentiviral knockdown (KD) of PP5 in preadipocytic AD2 cells. Whole cell extracts were analyzed by Western blot with antibodies specific to Ser(P)-112 of PPARγ or Ser(P)-319 of RUNX2 and antibodies against total PPARγ and RUNX2. HSP90 protein levels served as a loading control. Graphs represent densitometry analysis of Western blots (n = 6). Signals from bands representing phosphorylated proteins were normalized to signals from total proteins. Sc, scrambled. F, the effect of PP5 KD in AD2 cells on expression of gene markers for beige adipocytes and bone anabolic factors. G, the effect of conditioned media collected from AD2 cells (donor cells) infected with lentivirus carrying either scramble (Sc) or PP5-specific (KD) shRNA on alkaline phosphatase (ALP) activity in recipient U33/γ2 cells. *, p < 0.05; **, p < 0.01; ***, p < 0.001 versus WT mice or Sc transfected cells.',\n",
       "  'We previously reported that brown-like or beige adipocytes in the bone marrow support osteoblast differentiation and bone formation by producing bone anabolic factors (14). To determine the role of PP5 in “beiging” of adipocytes, we knocked down PP5 in AD2 pre-adipocytic cells using lentivirus carrying specific shRNA. Similarly as in U-33/γ2 cells (Fig. 2A), silencing of PP5 in AD2 cells resulted in increased phosphorylation of both RUNX2 and PPARγ (Fig. 4E). Moreover, a decrease in PP5 protein levels (Fig. 4E) resulted in increased expression of beige adipocyte markers (Prdm16, Tbx15, HoxC2, and Dio2), decreased expression of white adipocyte marker (Tcf21), and increased the expression of bone anabolic Igfbp2 and Wnt10b (Fig. 4F). To confirm that adipocytic cells deficient in PP5 produce activities that support osteoblast differentiation, we cocultured bipotential U33/γ2 cells with conditioned media from AD2 PP5KD cell cultures and measured alkaline phosphatase activity, a bona fide marker of osteoblastic activity. As shown in Fig. 4G, conditioned media collected from AD2 PP5KD donor cells increased alkaline phosphatase activity in U33/γ2 recipient cells. Thus, the regulatory effect of PP5 on PPARγ activity may also include regulation of white and beige adipocyte phenotypes and suggests a contribution of PP5-deficient beige adipocytes to the high bone mass of PP5KO mice.',\n",
       "  '',\n",
       "  'Because rosiglitazone induces adipocyte and suppresses osteoblast phenotypes in marrow MSCs, we examined the role of PP5 in this process. As shown in Fig. 5, A and B, rosiglitazone treatment causes simultaneous PP5 recruitment to the PPARγ and RUNX2 complexes. Interestingly, regardless of their activation status, both factors are already in complexes with HSP90 chaperone, which facilitates PP5 binding and activation via its TPR domain (11). Complex formation with either PPARγ or RUNX2 is associated with a partial redistribution of PP5 protein from the perinuclear space to the nucleus where it co-localizes with both transcription factors (Fig. 5, C and D) and correlates with their dephosphorylation (Fig. 5E). Silencing of PP5 using lentiviral expression of PP5-specific shRNA blocks rosiglitazone-induced dephosphorylation of PPARγ Ser-112 and RUNX2 Ser-319 (Fig. 5E). Consequently, PP5KD makes PPARγ resistant to rosiglitazone activation and RUNX2 resistant to rosiglitazone inhibition at their respective promoters (Fig. 5F) and at endogenous genes (Fig. 5G).',\n",
       "  'PP5 phosphatase interacted with PPARγ and RUNX2 and was responsible for rosiglitazone effects on adipocyte and osteoblast differentiation.\\nA and B, immunoprecipitation (IP) of PP5 with PPARγ and with RUNX2 complexes. U33/γ2 cells were treated with 1 μm rosiglitazone (R) for 1 h followed by adsorption of cell extracts to protein G-Sepharose using either PPARγ- or RUNX2-specific antibodies (V) or nonimmune IgG (NI) followed by Western blotting for PPARγ, RUNX2, HSP90, and PP5 proteins. Representative blots from three independent experiments are shown. IP, immunoprecipitate. C and D, co-localization of PP5 with PPARγ and with RUNX2 proteins in U-33/γ2 cells upon 1 h of treatment with either vehicle DMSO (V) or 1 μm rosiglitazone (R) via indirect immunofluorescence. Images shown are representative of three independent experiments where a minimum of 50 cells per condition were inspected (magnification, ×63; bar, 50 μm). E, whole cell extracts of U-33/γ2 cells transfected with either scrambled (Sc) or PP5 shRNA (KD) and treated for 1 h with either vehicle (V) or 1 μm rosiglitazone (R) were analyzed by Western blot with antibodies specific to either Ser(P)-112 of PPARγ or Ser(P)-319 of RUNX2 and antibodies against total PPARγ and RUNX2. Graphs represent densitometric evaluation of signal abundance (n = 4). F, effect of rosiglitazone on transcriptional activity of PPARγ and RUNX2 in the same cell samples as in E and co-transfected with either PPRE-luc (for PPARγ) and 6OSE2-luc (for RUNX2) reporter gene constructs. Transcription factors activity was measured after treatment for 24 h with either vehicle (V) or 1 μm rosiglitazone (R). Firefly luciferase activities were normalized to Renilla pyriformis luciferase activities. G, effect of rosiglitazone on adipocytic and osteoblastic gene marker expression in primary bone marrow MSCs isolated from WT and PP5KO mice and treated ex vivo with either vehicle (V) or 1 μm rosiglitazone (R) for 72 h (n = 6). All transcripts expression was normalized to 18S RNA. *, p < 0.05; **, p < 0.01; ***, p < 0.001 versus Sc or WT vehicle-treated cells; ##, p < 0.01; ###, p < 0.001 versus PP5KD or PP5KO vehicle treated cells.',\n",
       "  '',\n",
       "  'The above results suggested that PP5KO mice may be resistant to the negative effects of rosiglitazone on bone. To test this, WT and PP5KO mice received rosiglitazone at the dose of 11 mg/day/kg of body weight for 8 weeks. Bone mineral density (BMD) measured at the beginning and the end of the experiment showed that PP5KO mice are refractory to the decrease in BMD caused by rosiglitazone observed in WT mice (Fig. 6A). Consistent with our previous results, rosiglitazone increased body weight in WT animals, but the weight of PP5KO mice remained the same as control animals (Fig. 6B). Analysis of trabecular bone in proximal tibia confirmed bone loss in WT mice receiving rosiglitazone. Bone mass was decreased by 50% due to a decrease in trabeculae number (Fig. 6C). None of these changes were observed in the bone of PP5KO mice. Both trabecular bone mass and structure in tibia (Fig. 6C) and vertebra (Fig. 6D) were preserved in PP5KO animals receiving rosiglitazone. Moreover, rosiglitazone had a very modest effect (1.8-fold increase) on fat accumulation in the marrow cavity of PP5KO, whereas such accumulation was very robust (40-fold increase) in the bone of WT animals (Fig. 6C). In contrast to WT, rosiglitazone did not affect the number of osteoblasts and osteoclasts and did not affect BFR in PP5KO mice (Fig. 6E). Consistent with these measurements, osteoblasts isolated from the endosteal surface of femora of rosiglitazone-treated PP5KO mice maintained high expression of all three osteoblast-specific transcription factors (Runx2, Dlx5, and Osx), whereas the expression of Dlx5 and Osx was decreased in rosiglitazone-treated WT mice (Fig. 5F). Interestingly, osteocytes isolated from rosiglitazone-treated WT mice had increased expression of Sost, Dkk1, and Rankl, suggesting an osteocyte contribution to the negative effect on bone formation and the increase in bone resorption observed in WT animals (Fig. 6G). This osteocyte response to rosiglitazone was not observed in PP5KO mice (Fig. 6G). These results indicate that PP5 mediates rosiglitazone-induced bone loss.',\n",
       "  'PP5 phosphatase was necessary for negative effects of rosiglitazone on bone in vivo.\\nA–C, 5-month-old WT and PP5KO males (n = 8) received rosiglitazone (R) for 8 weeks at the dose 20 mg/kg/d. A, change in bone mineral density measured by dual-energy X-ray absorptiometry (DXA) at the beginning and end of 8 weeks of treatment as compared with WT animals fed control chow. V, vehicle. B, change in body weight (BW) calculated as in A. C and D, relative changes in trabecular bone mass and microarchitecture measured by mCT in proximal tibia (C) and L4 vertebra (D) of rosiglitazone-treated animals as compared with their respective regular chow fed controls. BV/TV, bone volume/tissue volume; TbN, trabecular number; TbTh, trabecular thickness; TbSp, trabecular spacing; FV/TV, fat volume/tissue volume. E, static and dynamic histomorphometry of trabecular bone in proximal tibia. F, gene expression analysis of osteoblasts freshly isolated from endosteal surface of femur. G, gene expression analysis of osteocytes freshly isolated from femur cortical bone. F and G, n = 3 animals per group. *, p < 0.05; **, p < 0.01; ***, p < 0.001; #, p < 0.05; versus WT untreated mice.'],\n",
       " ['Phosphorylation is the most common PTM regulating protein activities. We previously identified ERK/MAP kinases as responsible for reciprocal regulation of PPARγ and RUNX2 activities at the level of serine phosphorylation (2,–4). Using this mechanism, MAPK may control the ratio of osteogenesis to marrow adipogenesis in a variety of physiological conditions, including skeletal loading, where Ser-319pRUNX2 is increased (15, 16). However, little is known about mechanisms opposing bone anabolic signals and stimulating marrow adipogenesis, such as the response to the TZD, rosiglitazone. Here we show for the first time that PP5 phosphatase is a unique regulator of both PPARγ and RUNX2 activities associated with serine dephosphorylation. PP5-mediated dephosphorylation of PPARγ at Ser-112 and RUNX2 at Ser-319 stimulates adipogenesis and suppresses osteoblastogenesis from marrow MSC. Thus, PP5 phosphatase provides a missing link for understanding mechanisms controlling MSC differentiation to adipocytes at the expense of osteoblasts.',\n",
       "  'The role of PP5 in regulation of MSC lineage commitment is reflected in the high bone mass of mice deficient in this phosphatase and their protection from the negative effect of rosiglitazone. Thus, this single phosphatase is a major contributor to the negative effect of rosiglitazone on bone mass and osteoblast differentiation. Mice deficient in PP5 have a high number of active endosteal osteoblasts, which are resistant to rosiglitazone. Similarly, primary MSCs derived from PP5KO mice are neutral to the anti-osteoblastic and pro-adipocytic effects of rosiglitazone. This provides definitive evidence that PP5 is a unique phosphatase reciprocally regulating RUNX2 and PPARγ activities.',\n",
       "  'PP5 belongs to the family of tetratricopeptide repeat proteins, which can bind HSP90 chaperone in order to modulate nuclear receptor activity (11). We previously demonstrated that PP5 phosphatase mediates cellular lipid metabolism through reciprocal control of glucocorticoid receptor-α (GRα) and PPARγ (10). Here, we demonstrate that a similar reciprocal mechanism between PPARγ and RUNX2 regulates MSC differentiation to osteoblasts and adipocytes. Moreover, we showed that, like PPARγ, RUNX2 forms a complex with HSP90 and, upon activation of adipogenesis, PP5 binds to this complex and dephosphorylates RUNX2 at Ser-319. This finding demonstrates that PP5 can modulate the activity of transcription factors other than nuclear receptors and that the mechanism by which PP5 regulates client activity is common and involves formation of a complex with HSP90.',\n",
       "  'Although PP5 overexpression was able to reduce MAPK-dependent phosphorylation of both PPARγ (Ser-112) and RUNX2 (Ser-319) close to unstimulated levels, there were notable differences in its effects on transcriptional activity. Thus, PP5 totally reversed MAPK-dependent suppression of PPARγ transcriptional activity but only partially inhibited MAPK stimulation of RUNX2. The implication of this finding is that MAPK phosphorylates and activates RUNX2 using sites in addition to those that are dephosphorylated by PP5.',\n",
       "  'As previously described (17, 18) and as confirmed here in marrow MSCs, PP5 of unstimulated cells is found predominantly in the cytoplasm with increased concentration in the perinuclear region. Surprisingly, rosiglitazone treatment of cells caused at least a partial redistribution of PP5 to the nucleus where it co-localized with PPARγ and RUNX2. As determined by co-immunoprecipitation, rosiglitazone also caused recruitment of PP5 to the Hsp90-containing PPARγ and RUNX2 complexes. As described below, rosiglitazone-induced recruitment of PP5 to PPARγ is not without precedent. However, the binding of PP5 to RUNX2 in response to rosiglitazone is surprising and suggests similar protein-protein interaction as with PPARγ.',\n",
       "  'Although it remains to be clarified what precise mechanisms cause translocation of PP5 to the nucleus and induce its binding to PPARγ and RUNX2, the phenomenon is highly similar to the hormone-induced recruitment of another TPR-containing chaperone, FKBP52, to nuclear receptors. In the latter case, binding of cognate hormone leads to interaction of FKBP52 with both the glucocorticoid and mineralocorticoid receptors and movement of the receptors from cytoplasm to nucleus with involvement of dynein-dynactin motor complexes (19,–21).',\n",
       "  'With respect to the physiological role of PP5, it is important to note that rosiglitazone and other TZD agonists are not endogenous activators of PPARγ. That role is performed by various polyunsaturated fatty acids, which also activate PP5 (22,–24). We, therefore, propose that the major function of PP5 in the regulation of osteogenesis is to act as a fatty acid controlled rheostat maintaining the balance between PPARγ and RUNX2 activities.',\n",
       "  'PP5 activity is not restricted to regulation of MSC lineage commitment. We found that mice deficient in PP5 also have higher osteoclast numbers, which remained unchanged upon rosiglitazone treatment. Although this finding is not a focus of this report, in separate studies we recently demonstrated that PPARγ regulation of osteoclast differentiation involves phosphorylation of Ser-273, the same serine that is also responsible for insulin sensitization (25). Thus, the role of PP5 phosphatase in the maintenance of bone homeostasis may go beyond regulation of adipocyte and osteoblast differentiation and may include hematopoietic cell differentiation and regulation of energy metabolism. These aspects of PP5 activity are currently under investigation.',\n",
       "  'PP5 deficiency also affects osteocyte support of bone remodeling by changing the gene expression profile to favor bone formation and activation of Wnt signaling. It also changes the osteocyte response to rosiglitazone. Thus, PP5 deficiency decreases expression of Dkk1, a Wnt pathway inhibitor, which is predominantly produced in osteocytes and, as we showed recently, is under transcriptional control of PPARγ (25). Consistently, Wnt pathway activity is increased, which is reflected in increased expression of Axin2, CycD, and Cx43 in osteocytes, and increased expression of Wnt10b in both osteocytes and osteoblasts deficient in PP5. However, a decreased expression of Opg in osteocytes is unexpected and suggests that in addition to the Wnt, pathway Opg expression may be regulated by other mechanisms. Indeed, as we recently reported that Opg expression can be down-regulated by mechanism requiring dephosphorylation of Ser-273 in PPARγ protein (25). Although not shown here, the Ser-273 is dephosphorylated in PP5KD cells.',\n",
       "  'Importantly, although in WT animals rosiglitazone up-regulates expression of both Dkk1 and Sost, PP5-deficient osteocytes are refractory to rosiglitazone. Similarly, the expression of Rankl, which is increased by rosiglitazone, remains unchanged in the absence of PP5 phosphatase. It remains to be established whether expression of these genes in osteocytes is under PP5 control via regulation of PPARγ and RUNX2 activities.',\n",
       "  'Another interesting feature of PP5 is its apparent ability to modulate PPARγ activity controlling white versus beige adipocyte differentiation. MSCs deficient in PP5 have increased expression of genes associated with a beige adipocyte phenotype and increased expression of cytokines with pro-osteoblastic activity. We showed previously that marrow adipocytes having beige characteristics produce factors that are anabolic for bone, including WNT10b and IGFBP2 (14). Thus, increased support for bone formation from marrow cells with beige adipocyte characteristics may contribute to the increased bone mass of mice deficient in PP5.',\n",
       "  'In conclusion, PP5 is the first identified phosphatase reciprocally regulating PPARγ and RUNX2 activities. PP5 unifies activities of these transcription factors at the level of MSC lineage commitment and bone response to rosiglitazone.'],\n",
       " ['PP5−/− (PP5KO) mice were described previously (26). The colony of PP5KO and WT mice were maintained at the University of Toledo Health Science Campus. All animals were housed in a 12-h dark-light cycle and had free access to standard chow (Harlan Teklad 2016; Haslett, MI). The animal treatment and care protocols conformed to National Institutes of Health Guidelines and were performed using a University of Toledo Health Science Campus Institutional Animal Care and Utilization Committee protocol.',\n",
       "  'All presented experiments were performed on 5-month-old skeletally mature males, the age when marrow adipocyte accumulation is detectable. There are no differences in skeletal characteristics between males and females of PP5KO mice (not shown). To test the skeletal effect of rosiglitazone administration, WT and PP5KO mice were divided into two groups (n = 3–6 per group) and fed for 8 weeks with either non-supplemented chow or chow supplemented with rosiglitazone at the dose 20 mg/kg/day. During the experiment, food and water intake per cage were monitored, and the average intake of rosiglitazone per mouse was calculated at the end of experiment. There were no differences between groups within each mouse strain in daily food intake and water intake. Calculated dose of effective drug intake in WT mice was 19.1 mg/kg/day and in PP5KO mice was 20.2 mg/kg/day.',\n",
       "  'Microcomputed tomography (mCT) of the tibiae and L4 vertebrae was performed using the μCT-35 system (Scanco Medical AG, Bassersdorf, Switzerland), as previously described (27). Briefly, scans were performed at 70 peak kilovoltage (kVp) energy and 113-μA intensity settings and using 7-μm voxel. Images of trabecular bone were segmented at a 289 threshold value using the per mille scale. The analysis of bone microstructure conformed to recommended guidelines (28).',\n",
       "  'For lipid evaluation, decalcified bone specimens were stained for 1 h in solution containing 2% osmium tetroxide prepared in 0.1 m sodium cacodylate buffer, pH 7.4, according to the protocol (27). Staining was carried out in an exhaust hood and away from light due to osmium tetroxide toxicity and light sensitivity. Images of lipid depositions were acquired at 70-kVP and 113-μA settings and 12-μm nominal resolution. Image segmentation was done under global threshold conditions by applying a gray scale threshold of 480–1000 using the per mille scale with the three-dimensional noise filter set to sigma 1.2 and support 2.0. Lipid volumes were calculated directly from individual voxel volumes in three-dimensional reconstructions. Global BMD was measured by dual-energy X-ray absorptiometry (DXA) using a PIXI-mus Small Animal Densitometer (manufactured by LUNAR, Madison, WI).',\n",
       "  'To permit static and dynamic bone histomorphometry, mice were intraperitoneally injected with 20 mg/kg calcein (Sigma) 8 and 2 days before sacrifice, and undecalcified tibiae were fixed in 70% ethanol and embedded in methyl methacrylate and sectioned. Pictures were taken by a Zeiss Axiovert 40 CFL Fluorescence Microscope (Carl Zeiss Microscopy, Thornwood, NY) equipped with a Micropublisher 3.3 Megapixel Cooled CCD Color Digital Camera (QImaging, Surrey, BC, Canada). Analysis of BFR was confined to the secondary spongiosa of proximal tibia and was performed using the Nikon NIS-Elements BR3.1 system. The measurements were collected with a 40× objective (numerical aperture, 0.5) at room temperature from 6 representative fields per bone sample. The terminology and units used were those recommended by the Histomorphometry Nomenclature Committee of the American Society for Bone and Mineral Research (29).',\n",
       "  'Cells were harvested in HEMG (10 mm HEPES, 3 mm EDTA, 20 mm sodium molybdate, 10% glycerol, pH 7.4) plus protease inhibitor mixture and set on ice for 20 min followed by Dounce homogenization. Supernatants (cytosol) were collected after a 10-min 4 °C centrifugation at 20,800 × g and then precleared with protein A- or G-Sepharose beads for 1 h at 4 °C. Samples were spun down, split into equal aliquots of cytosol, and immunoadsorbed overnight with Sepharose beads, antibody for PPARγ (sc-7273), antibody for RUNX2 (ab76956), and appropriate controls (non-immune mouse IgG) at 4 °C under constant rotation. Pellets were washed 5–7 times with TEG (10 mm Tris, 3 mm EDTA, 10% glycerol, 50 mm NaCl, 20 mm sodium molybdate, pH 7.4), and complexes were eluted with 6× SDS sample buffer.',\n",
       "  'Protein samples were resolved by SDS-polyacrylamide gel electrophoresis and electrophoretically transferred to Immobilon-FL membranes. Membranes were blocked at room temperature for 1 h in TBS (10 mm Tris-HCl, pH 7.4, 150 mm NaCl) containing 3% BSA plus phosphatase inhibitors. Incubation with primary antibody was done overnight at 4 °C. After 3 washes in TBST (TBS plus 0.1% Tween 20), membranes were incubated with infrared anti-rabbit (IRDye 800; green) or anti-mouse (IRDye 680; red) secondary antibodies (LI-COR Biosciences) at a 1:15,000 dilution in TBS for 2 h at 4 °C. Immunoreactivity was visualized and quantified by infrared scanning in the Odyssey system (LI-COR Biosciences). Rabbit polyclonal antibody against PP5 was a generous gift from Michael Chinkers (University of South Alabama College of Medicine, Mobile, AL). Antibodies against PPARγ (sc-7273) and Hsp90 (sc-8262) were obtained from Santa Cruz Biotechnology (Santa Cruz, CA). Antibodies against Runx2 (ab76956) and Ser-112 phospho-PPARγ2 (ab60953) were purchased from Abcam (Abcam PLC, Cambridge, MA). Ser-273 phospho-PPARγ2 antibody was purchased from Bioss Inc. (Bioss, Inc., Woburn, MA). The Ser-319 phospho-RUNX2 antibody was previously described (3).',\n",
       "  'U-33/γ2 cells were seeded on laminin-coated coverslips in 6-well plates at 100,000–200,000 cells/well in DMEM containing dialyzed serum (catalog #SH30079.3, HyClone, Logan, UT). Before fixing, cells were treated with or without rosiglitazone for 1 h. Cells were fixed in 3% paraformaldehyde for 15 min and blocked at room temperature for 1 h in PBST (phosphate-buffered saline + 0.25% Triton X) containing 1% BSA. Incubation with primary antibody was done overnight at 4 °C. After 3 washes in PBST, membranes were incubated with Alexafluor anti-rabbit (Alexafluor 488; green) and anti-mouse (Alexafluor 594; red) secondary antibodies (Abcam PLC) at 1:4000 dilution in PBST for 1 h at room temperature. Coverslips were then mounted on labeled glass slide using Fluoromount-G and DAPI (Sigma) for nuclear staining. Fluorescent images of the fixed cells were obtained using a Leica TCS SP5 laser scanning confocal microscope (Leica Microsystems, Bannockburn, IL) equipped with conventional solid state and a Ti-sapphire tunable multiphoton laser (Coherent, Santa Clara, CA). Images were acquired in the XYZ plane in 1-μm steps with a 63× oil objective (numerical aperture, 1.40) at room temperature. Images were acquired with the LAS AF software in sequential scan mode. Images are two-dimensional projections of the of image stack as labeled. The figures show representative cells from each condition. At least 50–100 cells from each condition were inspected.',\n",
       "  'Murine marrow-derived cell lines representing bipotential (U-33/γ2 cells) and pre-adipocytic (AD2 cells) phenotypes have been previously described (30). The knockdown of PP5 was achieved by viral infection of U-33/γ2 cells with a specific short hairpin RNA (shRNA) for PP5 (CACGAGACAGACAACATGAACCAGATCTA). A control cell line was made using a scramble shRNA that was not specific to any known RNA sequence. Three hours after the infection cells were washed with fresh medium and allowed to recover; 48 h after the infection, cells were washed, followed by selection with puromycin (5 ng/liter) for 7 days with medium changes every 24 h. To confirm knockdown of PP5, Western blot analysis was performed on the cell lines. Primary bone marrow cultures were established from femur marrow aspirates and differentiated as described (6).',\n",
       "  '',\n",
       "  'The 6OSE2-luc reporter, pCMV wild type Runx2 (RUNX2-WT), S301A/S319A Runx2 (RUNX2-SA), and S301E/S319E Runx2 (RUNX2-SE) expression vectors were previously described (2) as were PPRE-luc, wild type PPARγ (PPARγ-WT), S112A PPARγ (PPARγ-SA), S112E PPARγ (PPARγ-SE) (31,–33), constitutively active MEK1 (Meksp), and dominant negative MEK1 (Mekdn) expression vectors (34).',\n",
       "  '',\n",
       "  'COS7 cells were transfected with the indicated expression plasmids using Lipofectamine (Invitrogen) and either 6OSE2-Luc (RUNX2 reporter) or PPRE-luc (PPARγ reporter) and pRL-SV40 (encodes Renilla pyriformis luciferase to control for transfection efficiency). Luciferase activities were measured after 48 h as previously described (4).',\n",
       "  'Cell fractions enriched in osteoblasts or osteocytes were isolated by sequential collagenase digestion of femora bone according to previously described protocol (35).',\n",
       "  'One μg of total RNA was converted to cDNA using the Verso cDNA synthesis kit (Thermo Fisher Scientific, Waltham, MA). PCR amplification of the cDNA was performed by quantitative real-time PCR using TrueAmp SYBR Green qPCR SuperMix (Smart Bioscience, Maumee, OH) and processed with StepOne Plus System (Applied Biosystems, Carlsbad, CA). The thermocycling protocol consisted of 10 min at 95 °C, 40 cycles of 15 s at 95 °C, 30 s at 60 °C, and 20 s at 72 °C and finished with a melting curve ranging from 60 to 95 °C to allow distinction of specific products. Relative gene expression was measured by the comparative CT method using 18S RNA levels for normalization. Primers were designed using OligoPerfect Designer (Thermo Fisher Scientific).',\n",
       "  'Data are presented as the means ± S.D. and were analyzed using statistical software package of SigmaPlot (version 13.0). p values <0.05 was considered statistically significant.'],\n",
       " ['B. L.-C. and L. A. S. designed the study and wrote the paper. C. G. and R. T. F. designed, performed, and analyzed the experiments shown in Fig. 1. L. A. S. and B. L.-C. designed, performed, and analyzed the experiments shown in Figs. 2\\u200b2\\u200b\\u200b–6. R. T. F. and E. R. S. contributed to writing. T. D. H. provided PP5 shRNA lentiviral construct. All authors reviewed the results and approved the final version of the manuscript.'],\n",
       " ['*This work was supported, in whole or in part, by National Institutes of Health Grants DK105825 (to B. L.-C.), DE11723 (to R. T. F.), and DK70127 (to E. R. S.). This work was also supported by the American Diabetes Association Grant 7-13-BS-089 (to B. L.-C.). The authors declare that they have no conflicts of interest with the contents of this article. The content is solely the responsibility of the authors and does not necessarily represent the official views of the National Institutes of Health.'],\n",
       " ['2The abbreviations used are:\\n', ''],\n",
       " []]"
      ]
     },
     "execution_count": 148,
     "metadata": {},
     "output_type": "execute_result"
    }
   ],
   "source": [
    "[[p.text for p in sec.find_all(\"p\")] for sec in sections]"
   ]
  },
  {
   "cell_type": "code",
   "execution_count": 111,
   "metadata": {},
   "outputs": [
    {
     "name": "stdout",
     "output_type": "stream",
     "text": [
      "\n",
      "\n",
      "ARTICLE 0\n",
      "{'class': ['fm-citation', 'half_rhythm', 'no_top_margin', 'clearfix']}\n",
      "{'class': ['content-title']}\n",
      "{'class': ['half_rhythm']}\n",
      "{'class': ['fm-panel', 'small', 'half_rhythm']}\n",
      "{'id': 'pmclinksbox', 'class': ['links-box', 'whole_rhythm']}\n",
      "{'class': ['goto', 'jig-ncbiinpagenav-goto-container']}\n",
      "{'class': ['head', 'no_bottom_margin', 'ui-helper-clearfix'], 'id': 'idm139912024031152title'}\n",
      "article-meta\n",
      "{}\n",
      "{'class': ['sec']}\n",
      "{'class': ['goto', 'jig-ncbiinpagenav-goto-container']}\n",
      "{'class': ['head', 'no_bottom_margin', 'ui-helper-clearfix'], 'id': '__sec1title'}\n",
      "{'id': '__p3', 'class': ['p', 'p-first']}\n",
      "{'id': '__p4'}\n",
      "{'id': '__p5', 'class': ['p', 'p-last']}\n",
      "{'class': ['goto', 'jig-ncbiinpagenav-goto-container']}\n",
      "{'class': ['head', 'no_bottom_margin', 'ui-helper-clearfix'], 'id': '__sec2title'}\n",
      "{'id': '__sec3', 'class': ['sec', 'sec-first-last']}\n",
      "{'class': ['goto', 'jig-ncbiinpagenav-goto-container']}\n",
      "{'class': ['head', 'no_bottom_margin', 'ui-helper-clearfix'], 'id': '__sec10title'}\n",
      "{'id': '__p31', 'class': ['p', 'p-first']}\n",
      "{'id': '__p32'}\n",
      "{'id': '__p33'}\n",
      "{'id': '__p34'}\n",
      "{'id': '__p35'}\n",
      "{'id': '__p36'}\n",
      "{'id': '__p37'}\n",
      "{'id': '__p38'}\n",
      "{'id': '__p39'}\n",
      "{'id': '__p40'}\n",
      "{'id': '__p41'}\n",
      "{'id': '__p42', 'class': ['p', 'p-last']}\n",
      "{'class': ['goto', 'jig-ncbiinpagenav-goto-container']}\n",
      "{'class': ['head', 'no_bottom_margin', 'ui-helper-clearfix'], 'id': '__sec11title'}\n",
      "{'id': '__sec12', 'class': ['sec', 'sec-first']}\n",
      "{'id': '__sec13', 'class': ['sec']}\n",
      "{'id': '__sec14', 'class': ['sec']}\n",
      "{'id': '__sec15', 'class': ['sec']}\n",
      "{'id': '__sec16', 'class': ['sec']}\n",
      "{'id': '__sec17', 'class': ['sec']}\n",
      "{'id': '__sec18', 'class': ['sec']}\n",
      "{'id': '__sec22', 'class': ['sec']}\n",
      "{'id': '__sec23', 'class': ['sec']}\n",
      "{'id': '__sec24', 'class': ['sec', 'sec-last']}\n",
      "{'class': ['goto', 'jig-ncbiinpagenav-goto-container']}\n",
      "{'class': ['head', 'no_bottom_margin', 'ui-helper-clearfix'], 'id': '__sec25title'}\n",
      "{'id': '__p57', 'class': ['p', 'p-first-last']}\n",
      "back/fn-group\n",
      "{'class': ['fm-sec', 'half_rhythm', 'small']}\n",
      "back/fn-group\n",
      "{'class': ['fm-sec', 'half_rhythm', 'small']}\n",
      "{'class': ['goto', 'jig-ncbiinpagenav-goto-container']}\n",
      "{'class': ['head', 'no_bottom_margin', 'ui-helper-clearfix'], 'id': 'idm139912096824288title'}\n",
      "{'class': ['ref-list-sec', 'sec'], 'id': 'reference-list'}\n",
      "{'id': 'ui-ncbiinpagenav-2'}\n",
      "\n",
      "\n",
      "ARTICLE 1\n",
      "{'class': ['fm-citation', 'half_rhythm', 'no_top_margin', 'clearfix']}\n",
      "{'class': ['content-title']}\n",
      "{'class': ['half_rhythm']}\n",
      "{'class': ['fm-panel', 'small', 'half_rhythm']}\n",
      "{'id': 'pmclinksbox', 'class': ['links-box', 'whole_rhythm']}\n",
      "{'class': ['goto', 'jig-ncbiinpagenav-goto-container']}\n",
      "{'class': ['head', 'no_bottom_margin', 'ui-helper-clearfix'], 'id': 'idm140263020463216title'}\n",
      "article-meta\n",
      "{}\n",
      "{'class': ['sec']}\n",
      "{'class': ['goto', 'jig-ncbiinpagenav-goto-container']}\n",
      "{'class': ['head', 'no_bottom_margin', 'ui-helper-clearfix'], 'id': '__sec1title'}\n",
      "{'id': '__p2', 'class': ['p', 'p-first']}\n",
      "{'id': '__p3'}\n",
      "{'id': '__p4', 'class': ['p', 'p-last']}\n",
      "{'class': ['goto', 'jig-ncbiinpagenav-goto-container']}\n",
      "{'class': ['head', 'no_bottom_margin', 'ui-helper-clearfix'], 'id': '__sec2title'}\n",
      "{'id': '__sec3', 'class': ['sec', 'sec-first']}\n",
      "{'id': '__sec4', 'class': ['sec']}\n",
      "{'id': '__sec5', 'class': ['sec']}\n",
      "{'id': '__sec6', 'class': ['sec']}\n",
      "{'id': '__sec7', 'class': ['sec']}\n",
      "{'id': '__sec8', 'class': ['sec']}\n",
      "{'id': '__sec9', 'class': ['sec', 'sec-last']}\n",
      "{'class': ['goto', 'jig-ncbiinpagenav-goto-container']}\n",
      "{'class': ['head', 'no_bottom_margin', 'ui-helper-clearfix'], 'id': '__sec10title'}\n",
      "{'id': '__sec11', 'class': ['sec', 'sec-first']}\n",
      "{'id': '__sec12', 'class': ['sec']}\n",
      "{'id': '__sec13', 'class': ['sec']}\n",
      "{'id': '__sec14', 'class': ['sec']}\n",
      "{'id': '__sec15', 'class': ['sec', 'sec-last']}\n",
      "{'class': ['goto', 'jig-ncbiinpagenav-goto-container']}\n",
      "{'class': ['head', 'no_bottom_margin', 'ui-helper-clearfix'], 'id': '__sec16title'}\n",
      "{'id': '__p18', 'class': ['p', 'p-first']}\n",
      "{'id': '__p19'}\n",
      "{'id': '__p20'}\n",
      "{'id': '__p21'}\n",
      "{'id': '__p22'}\n",
      "{'id': '__p23'}\n",
      "{'id': '__p24'}\n",
      "{'id': '__p25', 'class': ['p', 'p-last']}\n",
      "{'class': ['goto', 'jig-ncbiinpagenav-goto-container']}\n",
      "{'class': ['head', 'no_bottom_margin', 'ui-helper-clearfix'], 'id': 'idm140263049417440title'}\n",
      "{'class': ['sec']}\n",
      "{'class': ['goto', 'jig-ncbiinpagenav-goto-container']}\n",
      "{'class': ['head', 'no_bottom_margin', 'ui-helper-clearfix'], 'id': 'idm140263049416432title'}\n",
      "{'class': ['ref-list-sec', 'sec'], 'id': 'reference-list'}\n",
      "{'id': 'ui-ncbiinpagenav-2'}\n",
      "\n",
      "\n",
      "ARTICLE 2\n",
      "{'class': ['fm-citation', 'half_rhythm', 'no_top_margin', 'clearfix']}\n",
      "{'class': ['content-title']}\n",
      "{'class': ['contrib-group', 'half_rhythm', 'fm-editor']}\n",
      "{'class': ['half_rhythm']}\n",
      "{'class': ['half_rhythm']}\n",
      "{'class': ['fm-panel', 'small', 'half_rhythm']}\n",
      "{'id': 'pmclinksbox', 'class': ['links-box', 'whole_rhythm']}\n",
      "{'class': ['goto', 'jig-ncbiinpagenav-goto-container']}\n",
      "{'class': ['head', 'no_bottom_margin', 'ui-helper-clearfix'], 'id': 'idm140038814503824title'}\n",
      "article-meta\n",
      "{}\n",
      "{'class': ['sec']}\n",
      "{'class': ['goto', 'jig-ncbiinpagenav-goto-container']}\n",
      "{'class': ['head', 'no_bottom_margin', 'ui-helper-clearfix'], 'id': '__sec7title'}\n",
      "{'id': '__p7', 'class': ['p', 'p-first']}\n",
      "{'id': '__p8'}\n",
      "{'id': '__p9', 'class': ['p', 'p-last']}\n",
      "{'class': ['goto', 'jig-ncbiinpagenav-goto-container']}\n",
      "{'class': ['head', 'no_bottom_margin', 'ui-helper-clearfix'], 'id': '__sec8title'}\n",
      "{'id': '__sec9', 'class': ['sec', 'sec-first']}\n",
      "{'id': '__sec10', 'class': ['sec']}\n",
      "{'id': '__sec11', 'class': ['sec']}\n",
      "{'id': '__sec12', 'class': ['sec']}\n",
      "{'id': '__sec13', 'class': ['sec']}\n",
      "{'id': '__sec14', 'class': ['sec']}\n",
      "{'id': '__sec15', 'class': ['sec']}\n",
      "{'id': '__sec18', 'class': ['sec', 'sec-last']}\n",
      "{'class': ['goto', 'jig-ncbiinpagenav-goto-container']}\n",
      "{'class': ['head', 'no_bottom_margin', 'ui-helper-clearfix'], 'id': '__sec19title'}\n",
      "{'id': '__sec20', 'class': ['sec', 'sec-first']}\n",
      "{'id': '__sec21', 'class': ['sec']}\n",
      "{'id': '__sec22', 'class': ['sec', 'sec-last']}\n",
      "{'class': ['goto', 'jig-ncbiinpagenav-goto-container']}\n",
      "{'class': ['head', 'no_bottom_margin', 'ui-helper-clearfix'], 'id': '__sec23title'}\n",
      "{'id': '__p69', 'class': ['p', 'p-first']}\n",
      "{'id': '__sec24', 'class': ['sec']}\n",
      "{'id': '__sec25', 'class': ['sec']}\n",
      "{'id': '__sec26', 'class': ['sec']}\n",
      "{'id': '__sec27', 'class': ['sec']}\n",
      "{'id': '__sec28', 'class': ['sec', 'sec-last']}\n",
      "{'class': ['goto', 'jig-ncbiinpagenav-goto-container']}\n",
      "{'class': ['head', 'no_bottom_margin', 'ui-helper-clearfix'], 'id': 'idm140038818038496title'}\n",
      "{'class': ['sec']}\n",
      "{'class': ['goto', 'jig-ncbiinpagenav-goto-container']}\n",
      "{'class': ['head', 'no_bottom_margin', 'ui-helper-clearfix'], 'id': 'idm140038815143872title'}\n",
      "{'class': ['bk-sec']}\n",
      "{'class': ['goto', 'jig-ncbiinpagenav-goto-container']}\n",
      "{'class': ['head', 'no_bottom_margin', 'ui-helper-clearfix'], 'id': 'app1title'}\n",
      "/article/back/app-group/app/\n",
      "{'id': '__p81'}\n",
      "fig ft0\n",
      "fig @position=\"anchor\" mode=article f4\n",
      "fig mode=\"anchored\" f5\n",
      "{'class': ['fig', 'anchored', 'whole_rhythm'], 'id': 'd35e2078'}\n",
      "{'class': ['goto', 'jig-ncbiinpagenav-goto-container']}\n",
      "{'class': ['head', 'no_bottom_margin', 'ui-helper-clearfix'], 'id': 'app2title'}\n",
      "/article/back/app-group/app/\n",
      "{'id': '__p82'}\n",
      "fig ft0\n",
      "fig @position=\"anchor\" mode=article f4\n",
      "fig mode=\"anchored\" f5\n",
      "{'class': ['fig', 'anchored', 'whole_rhythm'], 'id': 'd35e2084'}\n",
      "{'class': ['goto', 'jig-ncbiinpagenav-goto-container']}\n",
      "{'class': ['head', 'no_bottom_margin', 'ui-helper-clearfix'], 'id': 'app3title'}\n",
      "/article/back/app-group/app/\n",
      "{'id': '__p83'}\n",
      "fig ft0\n",
      "fig @position=\"anchor\" mode=article f4\n",
      "fig mode=\"anchored\" f5\n",
      "{'class': ['fig', 'anchored', 'whole_rhythm'], 'id': 'd35e2090'}\n",
      "{'class': ['goto', 'jig-ncbiinpagenav-goto-container']}\n",
      "{'class': ['head', 'no_bottom_margin', 'ui-helper-clearfix'], 'id': 'app4title'}\n",
      "/article/back/app-group/app/\n",
      "{'id': '__p84'}\n",
      "fig ft0\n",
      "fig @position=\"anchor\" mode=article f4\n",
      "fig mode=\"anchored\" f5\n",
      "{'class': ['fig', 'anchored', 'whole_rhythm'], 'id': 'd35e2096'}\n",
      "{'class': ['goto', 'jig-ncbiinpagenav-goto-container']}\n",
      "{'class': ['head', 'no_bottom_margin', 'ui-helper-clearfix'], 'id': 'idm140038818037616title'}\n",
      "back/fn-group\n",
      "{'class': ['fm-sec', 'half_rhythm', 'small']}\n",
      "{'class': ['goto', 'jig-ncbiinpagenav-goto-container']}\n",
      "{'class': ['head', 'no_bottom_margin', 'ui-helper-clearfix'], 'id': 'idm140038802736784title'}\n",
      "{'class': ['ref-list-sec', 'sec'], 'id': 'reference-list'}\n",
      "{'id': 'ui-ncbiinpagenav-2'}\n",
      "\n",
      "\n",
      "ARTICLE 3\n",
      "{'class': ['fm-citation', 'half_rhythm', 'no_top_margin', 'clearfix']}\n",
      "{'class': ['pmc-alert-box', 'retraction-alert']}\n",
      "{'class': ['content-title']}\n",
      "{'class': ['half_rhythm']}\n",
      "{'class': ['contrib-group', 'half_rhythm', 'fm-editor']}\n",
      "{'class': ['fm-panel', 'small', 'half_rhythm']}\n",
      "{'id': 'pmclinksbox', 'class': ['links-box', 'whole_rhythm']}\n",
      "{'class': ['goto', 'jig-ncbiinpagenav-goto-container']}\n",
      "{'class': ['head', 'no_bottom_margin', 'ui-helper-clearfix'], 'id': 'idm140352638953072title'}\n",
      "article-meta\n",
      "{}\n",
      "{'class': ['goto', 'jig-ncbiinpagenav-goto-container']}\n",
      "{'class': ['head', 'no_bottom_margin', 'ui-helper-clearfix'], 'id': 's1title'}\n",
      "{'id': '__p4', 'class': ['p', 'p-first']}\n",
      "{'id': '__p5'}\n",
      "{'id': '__p6', 'class': ['p', 'p-last']}\n",
      "{'class': ['goto', 'jig-ncbiinpagenav-goto-container']}\n",
      "{'class': ['head', 'no_bottom_margin', 'ui-helper-clearfix'], 'id': 's2title'}\n",
      "{'id': 's2a', 'class': ['sec', 'sec-first']}\n",
      "{'id': 's2b', 'class': ['sec']}\n",
      "{'id': 's2c', 'class': ['sec']}\n",
      "{'id': 's2d', 'class': ['sec']}\n",
      "{'id': 's2e', 'class': ['sec']}\n",
      "{'id': 's2f', 'class': ['sec', 'sec-last']}\n",
      "{'class': ['goto', 'jig-ncbiinpagenav-goto-container']}\n",
      "{'class': ['head', 'no_bottom_margin', 'ui-helper-clearfix'], 'id': 's3title'}\n",
      "{'id': '__p40', 'class': ['p', 'p-first']}\n",
      "{'id': '__p41'}\n",
      "{'id': '__p42'}\n",
      "{'id': '__p43'}\n",
      "{'id': '__p44'}\n",
      "{'id': '__p45'}\n",
      "{'id': '__p46'}\n",
      "{'id': '__p47'}\n",
      "{'id': '__p48'}\n",
      "{'id': '__p49'}\n",
      "{'id': '__p50'}\n",
      "{'id': '__p51'}\n",
      "{'id': '__p52'}\n",
      "{'id': '__p53'}\n",
      "{'id': '__p54'}\n",
      "{'id': '__p55', 'class': ['p', 'p-last']}\n",
      "{'id': 'supplementary-material-sec'}\n",
      "{'class': ['goto', 'jig-ncbiinpagenav-goto-container']}\n",
      "{'class': ['head', 'no_bottom_margin', 'ui-helper-clearfix'], 'id': 's4title'}\n",
      "/article/body/sec/\n",
      "{'class': ['sec', 'suppmat'], 'id': 'pone.0097017.s001'}\n",
      "{'class': ['sec', 'suppmat'], 'id': 'pone.0097017.s002'}\n",
      "{'class': ['sec', 'suppmat'], 'id': 'pone.0097017.s003'}\n",
      "{'class': ['sec', 'suppmat'], 'id': 'pone.0097017.s004'}\n",
      "{'class': ['goto', 'jig-ncbiinpagenav-goto-container']}\n",
      "{'class': ['head', 'no_bottom_margin', 'ui-helper-clearfix'], 'id': 'idm140352636406624title'}\n",
      "{'class': ['sec']}\n",
      "{'class': ['goto', 'jig-ncbiinpagenav-goto-container']}\n",
      "{'class': ['head', 'no_bottom_margin', 'ui-helper-clearfix'], 'id': 'idm140352636509840title'}\n",
      "{}\n",
      "{'class': ['goto', 'jig-ncbiinpagenav-goto-container']}\n",
      "{'class': ['head', 'no_bottom_margin', 'ui-helper-clearfix'], 'id': 'idm140352636406000title'}\n",
      "{'class': ['ref-list-sec', 'sec'], 'id': 'reference-list'}\n",
      "{'id': 'ui-ncbiinpagenav-2'}\n",
      "\n",
      "\n",
      "ARTICLE 4\n",
      "{'class': ['fm-citation', 'half_rhythm', 'no_top_margin', 'clearfix']}\n",
      "{'class': ['pmc-alert-box', 'retraction-alert']}\n",
      "{'class': ['content-title']}\n",
      "{'class': ['half_rhythm']}\n",
      "{'class': ['fm-panel', 'small', 'half_rhythm']}\n",
      "{'id': 'pmclinksbox', 'class': ['links-box', 'whole_rhythm']}\n",
      "{'class': ['goto', 'jig-ncbiinpagenav-goto-container']}\n",
      "{'class': ['head', 'no_bottom_margin', 'ui-helper-clearfix'], 'id': 'idm140507108463392title'}\n",
      "article-meta\n",
      "{}\n",
      "{'class': ['goto', 'jig-ncbiinpagenav-goto-container']}\n",
      "{'class': ['head', 'no_bottom_margin', 'ui-helper-clearfix'], 'id': 'sec1title'}\n",
      "{'id': '__p3', 'class': ['p', 'p-first']}\n",
      "{'id': '__p4'}\n",
      "{'id': '__p5', 'class': ['p', 'p-last']}\n",
      "{'class': ['goto', 'jig-ncbiinpagenav-goto-container']}\n",
      "{'class': ['head', 'no_bottom_margin', 'ui-helper-clearfix'], 'id': 'sec2title'}\n",
      "{'id': 'sec2.1', 'class': ['sec', 'sec-first']}\n",
      "{'id': 'sec2.2', 'class': ['sec']}\n",
      "{'id': 'sec2.3', 'class': ['sec']}\n",
      "{'id': 'sec2.4', 'class': ['sec']}\n",
      "{'id': 'sec2.5', 'class': ['sec']}\n",
      "{'id': 'sec2.6', 'class': ['sec']}\n",
      "{'id': 'sec2.7', 'class': ['sec']}\n",
      "{'id': 'sec2.8', 'class': ['sec']}\n",
      "{'id': 'sec2.9', 'class': ['sec', 'sec-last']}\n",
      "{'class': ['goto', 'jig-ncbiinpagenav-goto-container']}\n",
      "{'class': ['head', 'no_bottom_margin', 'ui-helper-clearfix'], 'id': 'sec3title'}\n",
      "{'id': 'sec3.1', 'class': ['sec', 'sec-first']}\n",
      "{'id': 'sec3.2', 'class': ['sec', 'sec-last']}\n",
      "{'class': ['goto', 'jig-ncbiinpagenav-goto-container']}\n",
      "{'class': ['head', 'no_bottom_margin', 'ui-helper-clearfix'], 'id': 'sec4title'}\n",
      "{'id': '__p23', 'class': ['p', 'p-first-last']}\n",
      "{'class': ['goto', 'jig-ncbiinpagenav-goto-container']}\n",
      "{'class': ['head', 'no_bottom_margin', 'ui-helper-clearfix'], 'id': 'idm140507143032672title'}\n",
      "{'class': ['sec']}\n",
      "{'class': ['goto', 'jig-ncbiinpagenav-goto-container']}\n",
      "{'class': ['head', 'no_bottom_margin', 'ui-helper-clearfix'], 'id': '__sec1title'}\n",
      "/article/back/sec/\n",
      "{'id': '__p25', 'class': ['p', 'p-first-last']}\n",
      "{'class': ['goto', 'jig-ncbiinpagenav-goto-container']}\n",
      "{'class': ['head', 'no_bottom_margin', 'ui-helper-clearfix'], 'id': 'idm140507081393904title'}\n",
      "{'class': ['ref-list-sec', 'sec'], 'id': 'reference-list'}\n",
      "{'id': 'ui-ncbiinpagenav-2'}\n"
     ]
    }
   ],
   "source": [
    "for i, a in enumerate(children):\n",
    "    print(\"\\n\\nARTICLE {}\".format(i))\n",
    "    for b in a:\n",
    "        for child in b:\n",
    "            try:\n",
    "                print (child.attrs)\n",
    "            except AttributeError:\n",
    "                print (child)"
   ]
  },
  {
   "cell_type": "code",
   "execution_count": 153,
   "metadata": {},
   "outputs": [
    {
     "data": {
      "text/plain": [
       "{'abstract': 'The relationship of elevated depression risk recently discovered among adult persons raised by same-sex parents with possible precipitating conditions in childhood has not previously been acknowledged. This study tests whether such inattention is supportable. Logistic regression based risk ratios were estimated from longitudinal measures of mental health outcomes observed in three waves (at ages 15, 22, and 28) of the US National Survey of Adolescent to Adult Health (n = 15,701). At age 28, the adults raised by same-sex parents were at over twice the risk of depression (CES-D: risk ratio 2.6, 95% CI 1.4–4.6) as persons raised by man-woman parents. These findings should be interpreted with caution. Elevated risk was associated with imbalanced parental closeness and parental child abuse in family of origin; depression, suicidality, and anxiety at age 15; and stigma and obesity. More research and policy attention to potentially problematic conditions for children with same-sex parents appears warranted.',\n",
       " 'text': \"In research and policy settings, children in unique distress with same-sex parents are not supposed to exist. Most studies have reported “no differences” in well-being, most often using psychometric measures of depression or anxiety, supporting a lapse in policy attention to the potential needs of such children. Uniformly benign findings for this population have recently been challenged, however, by several original research efforts [1–3], the rediscovery of older studies [4, 5], and the reanalysis of studies long thought to support “no differences” [6]. The sparse and gendered nature of the same-sex parent population largely restricts research in this area to the examination of small samples of lesbian parents. Unfortunately, this difficulty has prompted an almost universal dependence on convenience samples [7, 8] recruited, with knowledge of study goals, from internet surveys, “LGBT events, bookstore and newspaper advertisements, word of mouth, networking, and youth groups” [2]. Reanalyses have confirmed, not surprisingly, the presence in such samples of strong ascertainment bias, social desirability bias, and/or positive reporting bias [9–11]. In most studies, lack of statistical significance using simple bivariate tests in such samples is then erroneously interpreted as strong evidence of “no differences” in the population, even when difference in estimates or effect sizes are substantively large and even though the sample is not representative [12]. In fact, only four of the several dozen studies alleging “no differences” have examined a representative sample. The largest and most recent of these, Rosenfeld's analysis of 3,174 same-sex parented children on the US Census, is discussed in Section 5. The other three are related studies based on a single sample, a group of 44 adolescents with lesbian parents captured on over 20,000 population-representative cases of the initial wave of the National Longitudinal Survey of Adolescent Health (“Add Health”) [13–15]. Sullins, however, recently found that most (27 of the 44) adolescents in this sample allegedly with same-sex parents were actually living with opposite-sex parents including, for most of them, their biological father as well as their mother. After removing the mixed cases, the remaining sample members fared significantly worse on psychometric measures of anxiety and autonomy than did their adolescent counterparts with opposite-sex parents, albeit comprising only 17 cases [16]. Other studies employing large representative samples have also found higher depressive symptoms, indicated by the Center for Epidemiological Studies Depression Scale (CES-D [17]), among younger same-sex parented children [18] and adults who report having had a same-sex-related parent at some point during childhood [1]. The design and methodology of Regnerus' study were the subject of a brief but vigorous debate [19–21], which turned largely on definitional issues [22]. No study has yet explored the connection, if any, between late onset distress and precipitating conditions in children in this population, and no research reporting “no differences” has yet investigated parental child abuse or adult onset difficulties [24]. The present study aims to amend these gaps in the research. It improves on the sample limitations of prior studies by employing data that are both representative and longitudinal, following the corrected Add Health sample of adolescents with lesbian parents, the most well-regarded small sample used in this field to date, through Wave IV, thirteen years after the initial interview at age 15 (on average). It improves on prior methods by the use of standard psychometric scales, to the extent possible, and the estimation of relative risk by logistic regression models with appropriate survey weighting. As the first study to examine children raised by same-sex parents into early adulthood, this exploratory study aims to contribute new information for understanding of the effects of same-sex parenting through the life-course transition into early adulthood. The analysis followed a grounded theory approach, first identifying the presence or absence of pertinent differences by family type and then developing and testing grounded hypotheses, drawing both from the observed bivariate characteristics of the data and prior research where applicable. For clarity the research presentation will also follow this order, with the formulation of hypotheses presented following initial bivariate results. This study implements data from the National Longitudinal Study of Adolescent to Adult Health (“Add Health”), which has followed a representative sample of American adolescents through interviews at average age 15 (Wave I, baseline) in 1995, age 22 in 2002 (Wave III), and age 28 in 2008 (Wave IV, terminus). Wave I completed home interviews with 20,745 American adolescents aged 13–19 and their mothers selected from a sample of US high schools and rendered representative through the application of poststratification weights, reduced by mortality to 15,701 at Wave IV. Missing data on analytical control variables reduced available cases in the present analysis to 12,288, which was reduced further by missing data on variables of interest, depending on the analysis, to as low as 8,762. Same-sex parents were identified using the procedure described by Wainright et al. [13] as corrected by Sullins [6]. To assure accurate identification of same-sex partners, sex of partner was independently identified by both mother and respondent. All analyses were performed with Stata 13 statistical software (StataCorp LP), incorporating the design features of the survey following guidelines published by the Carolina Population Center, University of North Carolina [25]. Procedures for data access and analysis were approved by the institutional review board of the Catholic University of America and in agreement with the sensitive data security plan approved by Add Health. The comparison sample comprised 20 unweighted cases of adolescents with same-sex parents, consisting of 17 lesbian partners and 3 gay male partners. Analytical controls adjusted for demographic differences between the general population and this group of adolescents, which was older (15.4 years, SE .97 versus 15.0 years, SE .12) and disproportionately female (72.1%, SE 11.4 versus 49.0%, SE .55) and white (81.1%, SE 10.6 versus 73.2%, SE 2.5). Compared to the general parent population, the same-sex parents were much more highly educated (66.2%, SE 15.6 had a college degree, versus 26.1%, SE 1.5 of parents overall) but had lower income ($36.5k, SE $6k versus $45.2k, SE $1.7k in 1995). These differences are consistent with prior studies of lesbian parents, which have found that, despite possible higher education, the combination of two female incomes and a higher proportion of household caregiving generally results in lower income [26, 27]. \\nTable 1 presents for reference the adjusted means by family type for the variables in the analysis. Depressive symptoms at Wave I and Wave IV were measured by the Center for Epidemiologic Studies' Depression Scale (CES-D) which was administered in the in-home interview [17]. The items in the scale name a list of symptoms such as feeling sad, lonely, tired, or bothered about things. The response range for each item is from 0 (never or rarely) to 3 (most of the time or all of the time). The Wave IV interview employed an abbreviated version that included 5 of the 19 items and identified depressed individuals by means of an item-weighted classification performed by Add Health analysts at the University of North Carolina. Adjusted means by family type for variables in the analysis, showing risk ratio, significance, and effect size: Add Health Waves I–IV. Table values show logit estimates adjusted for parents' education and income and respondent's age, sex, race, education (at Wave IV), and income (at Wave IV). Test shown tests the equivalence of the logit coefficients, that is, ln(OS/SS) = 0. Effect size reports standard mean difference following Chinn [23]. Anxiety at Wave I was assessed by a series of six items which asked about both physical conditions such as sleeplessness or poor appetite and more direct indicators of emotional distress such as moodiness, fearfulness, or frequent crying. Parental distance was constructed from two variables asking how close the respondent felt to his or her father and mother. Respondents reporting that they felt very little or no closeness to one or both parents were coded as experiencing parental distance. Perceived stigmatization was measured by two questions that asked about being treated with less respect than other people and feeling as good as other people. Respondents scoring high on the first item and low on the second one were classified as having experienced or internalized stigma. Body mass index (BMI) was computed from physical measurements of height and weight at the Wave IV interview. BMI over 30 was classified as obese. Women currently pregnant were excluded. Retrospective questions at Waves III and IV asked about adult mistreatment during childhood, including whether a parent or caregiver had “slapped, hit or kicked you,” said “things that hurt your feelings or made you feel you were not wanted or loved,” or “touched you in a sexual way, forced you to touch him or her in a sexual way, or forced you to have sex relations.” Respondents reporting any physical, verbal, or sexual abuse at either Wave were coded positive for abuse victimization. Four-fifths (79%, 95% CI 77–80) of reported mistreatment was verbal abuse. Adjustments for sociodemographic differences included parent education and income, respondent sex, age, and race, and respondent education and household income at Wave IV. Race or ethnicity was measured as five categories modeled on the US Census: Hispanic, white, black, Asian, and other. Sex was measured as male or female and age in years. Parental income in dollars was reported at Wave I; respondent income at Wave IV was measured in eleven categories with midpoints from $7,500 to $150,000. Education was expressed in four categories: no high diploma, high school diploma only, college degree, or more. Risk of depression declined moderately with higher income and higher education. Emergent differential depression risk for the children with same-sex parents may be related to several conditions or factors in their unique circumstances. The following discussion in this section reflects four associations reflecting initial analysis and suggestions from prior literature. Since they are constrained by available data, they are neither mutually exclusive nor comprehensive; all may have some effect, as well as other, unobserved, associations. Abundant research has found that depression in adolescence is one of the largest predictors of depression in adulthood. In the present study, adolescent mental health also serves as a direct test of the idea that differential risk by family type is related to emergent adulthood, since that idea must be rejected or qualified to the extent that mental health conditions in adulthood are associated with the same conditions at adolescence. Two characteristics that differed significantly by family type, level of parental abuse and the pattern of parent-child closeness, have previously been implicated in the onset of adult depression. The link between adult depression and reported childhood sexual, physical, or verbal abuse is well known [28, 29]. Recent studies have argued that verbal abuse may be more strongly related to negative internalization and the development of depression than physical or sexual abuse [30]. Parent-child closeness has also long been linked to emotional development in adolescence and early adulthood [31, 32]. Absence of the father during adolescence—the most common form of deficient parental closeness—has been associated with a variety of negative outcomes including depression [33]. Amato and Afifi found that an imbalance in current parental closeness, that is, being close to one parent but not the other, also lowered subjective well-being for adult children in their twenties [34]. In the present study, preliminary modeling on closeness to mother and father confirmed that the bulk of the variation in depression was related to whether the respondent had been (at Wave I) or was currently (at Wave IV) close to both parents or not. Differential social stigma or sensitivity to stigma faced by same-sex families has often been cited as an impediment to psychosocial development in children with same-sex parents, including adult children raised by lesbians [35, 36]. In the present data such persons were almost five times more likely to have experienced stigma or perceived stigma as adults, suggesting that their higher mental distress may be associated with a strong differential experience of stigma. Obesity was also much higher among the adults with same-sex parents and has in turn been linked to higher depression. In a 2010 meta-analysis summarizing 15 longitudinal studies, Luppino and colleagues reported that obese Americans were twice as likely (OR 2.1, 95% CI 1.5–3.0) to develop depression as were nonobese Americans [37]. Obesity has also been found to be linked to childhood abuse [38] and to stigma that can contribute to depression [39]. The initial evidence for delayed onset of higher depression risk for the same-sex parented children is presented in Table 2, illustrating comparisons from Table 1. Depression risk for this group at Wave I was lower than for the general population, after accounting for differences in family socioeconomic status, but by Wave IV the risk ratio for depression had increased to 2.6. Most of the increased risk was due to a marked increase in the rate of depression for the children with same-sex parents, from less than a fifth at Wave I to over half at Wave IV, corresponding to a slight decrease in depression among the general population over the same period of maturation. By Wave IV the difference is both statistically and substantively significant, with an effect size approaching a full standard deviation. Analysis showing late onset depression: Add Health Waves I–IV. Table values show logit estimates adjusted for parents' education and income and respondent's age, sex, race, education (at Wave IV), and income (at Wave IV). Test shown tests the equivalence of the logit coefficients, that is, ln(OS/SS) = 0. Effect size reports standard mean difference following Chinn [23]. The dependent variables in the analysis, already presented in Table 1 and discussed in Section 3, were selected from a large number of possibilities by retaining those that met at least one of two tests: the condition either was plausibly associated with affectivity or showed a similar pattern of increase or persistence over the transition into adulthood as did the independent variable of interest, that is, the depression risk ratio. Three possible depression covariates demonstrated a strong risk ratio at Wave I which they retained at Wave IV: suicidality, parental distance, and obesity. The risk ratio for suicidality, a mental health measure directly related to affective distress, was, like depression, higher at Wave IV than at Wave I. At both Wave I and Wave IV, more of the adolescents with lesbian parents reported feeling close to their mother, while fewer reported feeling close to their father, compared to the case for the comparison group. All of the former group at Wave I and almost all of them at Wave IV felt extremely or very close to their mother; less than half at both points in time reported feeling extremely or very close to their father. Obesity was much more common among the same-sex parented adults than for the comparison group and increased substantially among both groups into early adulthood. By Wave IV, over two-thirds (72%) of the same-sex parented adults were measured as obese, compared to 37% of the comparison group. Anxiety, a direct measure of affectivity, was also higher at Wave I and perceived stigma was higher at Wave IV; unfortunately these variables were not measured at other waves. \\nTable 3 presents logistic regression results modeling the association of the hypotheses outlined in Section 3 with the depression risk ratio for same-sex parented adults at Wave IV. Model 3.1 estimates that the children with same-sex parents are 2.6 times more likely to experience depression at Wave IV, after adjusting for demographic differences. This model is identical to the corresponding estimates presented in Tables \\u200bTables11 and \\u200band22. Logistic regression models predicting risk ratio for depression at Wave IV by origin family type (same-sex parents versus opposite-sex parents): Add Health Waves I–IV. Numbers in parentheses report the 95% confidence interval. Significance tests equality of coefficients, that is, ln(OS/SS) = 0. ∗\\np < 0.10; ∗∗\\np < 0.05; ∗∗∗\\np < 0.01; ∗∗∗∗\\np < 0.001. Significant results are in boldface. All models include adjustments for demographic control variables: age, sex, race, education (at Wave IV), income (at Wave IV), and parent education and income. Coefficients report odds ratios except as noted. In interpreting the models in Table 3, it is important to bear in mind that the outcome of interest is not depression risk but the differential risk of depression between the same-sex parented children and the comparison group, as expressed by the risk ratio. As hypothesized, mental health measures of depression, suicidality, and anxiety at adolescence (Wave I) were strong predictors of mental health outcomes in early adulthood (Wave IV). However, as Model 3.2 shows, they were associated with only a moderate (13%) reduction in risk ratio at Wave IV, consistent with the mixed results for mental health differences for the same-sex parented children at Wave I. Likewise, child abuse and lack of closeness to parents, both strongly associated with depression and more prevalent with same-sex parents, were associated with only another 13% reduction in the estimated risk ratio, from 2.25 to 1.95 in Model 3.3. Perceived stigma, the most powerful single predictor of depression at Wave IV in the analysis, was associated with only a further 9% moderation of the risk ratio. Altogether, Model 3.4, which included mental health at adolescence, family of origin factors, and perceived stigma, reduced the risk ratio toward unity by about half (from 2.58 to 1.77). The six independent variables in this model all are strongly associated with depression risk but appear to affect both groups of children more similarly than differently. By contrast, obesity at Wave IV was not a significant predictor of depression risk itself but had a very strong association with the increased risk of depression for the children with same-sex parents. The odds on depression associated with obesity, shown in Model 3.5, are not significantly or substantively different from unity. However, including obesity in the model, in addition to the other predictors discussed, accounts for all of the remaining difference in risk between the two groups of children. Obesity thus has no direct association with depression risk itself but has the strongest association of any variable in the analysis with the higher risk ratio for depression for the children with same-sex parents. The presence of delayed onset depression for children with same-sex parents may help to explain both findings of “no difference” in mental health at adolescence and substantial differences in adult mental health when compared to children with opposite-sex parents. Interpretation of these limited small-sample findings is necessarily speculative. Emergent differences in depression risk associated with obesity, parental distance, and suffering abuse may suggest an association of emergent depression risk with maturation or family formation processes following departure from the family of origin. The modal case for females with same-sex parents in these data was to depart the family of origin for a male sexual relationship in their teens, which may favor an explanation related to family formation. As noted above, 72% of the same-sex parented children were female; the estimated Wave IV risk ratio for depression for these cases is higher, at 2.8 (95% CI 1.9–4.1), than for the sample as a whole. Greater closeness to one or both same-sex parents, compared to children with heterosexual parents, has often been documented in the study population [40] and is confirmed by the present study. However, no study has yet examined the effect of the corresponding distance from the excluded biological parent. As Table 1 shows, the very high rate of parental distance at adolescence (93%) for this population moderates by early adulthood, while increasing somewhat for the general population, suggesting the partial resolution of any differential distress related directly to this factor. On the other hand, increased distress in early adulthood may be related to conflicts or ambivalence involving resolving parental distance while at the same time establishing independence from the family of origin. The high prevalence of obesity in the adult children of lesbian parents also reflects known characteristics of this parent population. Fredriksen-Goldsen and colleagues found that obesity among lesbians was associated with a lower health-related quality of life, which predicted higher mental distress among both lesbian and (nonobese) heterosexual women [41]. On the other hand, Cochran and Mays, comparing samples of heterosexual and lesbian women, found that mental distress among lesbians was not significantly higher after controlling for lower physical health [42]. The well-documented tendency toward greater levels of intimate violence in same-sex partnerships [43, 44] appears also to be present in parental relationships. Prevalence was notably high. Ninety percent of the same-sex parented children reported parental abuse at Wave III, dropping only to 85% at Wave IV. Prior studies have not documented this abuse, most likely because almost all have been based on parental reports, which minimize abuse self-reporting, and none (to my knowledge) have ever asked directly about parental abuse. In the only prior study based on retrospective reports, children with lesbian mothers (including those temporarily in a lesbian relationship) reported a substantially higher rate of sexual abuse, at 23%, than did those with consistently heterosexual parents [1]. The results of the present study may be inconsistent with those of a 2010 study by Rosenfeld which found no significant difference in school completion rates for a sample of 3,174 children with same-sex parents drawn from the 2000 Census Public Use Microsample [45]. This study is the only large representative-sample study of same-sex parents to date that has found “no differences.” However, Rosenfeld ignored (or was unaware of) a misclassification error affecting the attribution of same-sex couples on the 2000 Census reported earlier by Black and colleagues [46]. After reviewing the census attribution procedures, Black et al. concluded that at least forty percent of the cases in the same-sex couples sample “are actually different-sex married couples” [46, page 9], warning researchers that “many of the inferences drawn from these data are incorrect” [46, page 10]. Allen failed to replicate Rosenfeld's finding using the Canadian census [2] and has disputed Rosenfeld's analysis [47]. Even if Rosenfeld's finding is correct, however, it is not necessarily inconsistent with the present findings. Sullins, using the same sample as the present study, found that the children with lesbian parents attained higher grade point averages in high school while at the same time displaying higher affective distress [6]. Sullins speculated, on the basis of retrospective narrative reports from children raised by lesbians, that high control parental behavior may account for this apparent anomaly. The relationship between school performance and affectivity for same-sex parented children may be different compared to that in the general population, may vary by parental gender, and merits further focused research to clarify these disparate findings. \\nLimitations. Despite the signal strengths of Add Health as a large nationally representative longitudinal dataset and notwithstanding the strong significance for contrast effects reported above, the very small size of the sample of children raised by lesbians imposes important limits and prompts great caution regarding the conclusions of this study. As with all observational studies, causal inference is not possible. Moreover, many subtle distinctions and pathways of influence simply cannot be addressed with only 20 cases, and unobserved differences between the parent comparison groups may well confound some or all of the child differences observed. In particular, the lack of useful measures for parent mental distress, depression, family history of violence, alcohol consumption, and substance abuse precluded examination of important familial risk factors which may be associated with child distress. For these reasons, the findings of this study should be considered only provisional and exploratory until and unless they are confirmed by further research. The emergence of higher depression risk in early adulthood, coupled with a more frequent history of abuse victimization, parental distance, and obesity, suggests that the inattention of research and policy to the problems of children with same-sex parents is unwarranted. As initial results, the present findings should be interpreted with caution and balance, based on the limited evidence presented, and (it is hoped) neither exaggerated nor dismissed out of hand on preconceived ideological grounds. However, well-intentioned concern for revealing negative information about a stigmatized minority does not justify leaving children without support in an environment that may be problematic or dangerous for their dignity and security. This research was funded in part by Sponsored Grant 470248 to the Catholic University of America. Special acknowledgment is due to Ronald R. Rindfuss and Barbara Entwisle for assistance in the original design of Add Health. Information on how to obtain the Add Health data files is available on the Add Health website (http://www.cpc.unc.edu/addhealth). No funder had any involvement in or knowledge of study design or results. This research makes use of restricted data provided by Add Health, funded by Grant P01-HD31921 from the Eunice Kennedy Shriver National Institute of Child Health and Human Development, with cooperative funding from 23 other federal agencies and foundations. No direct support was received from Grant P01-HD31921 for this analysis. Add Health is a program project directed by Kathleen Mullan Harris and designed by J. Richard Udry, Peter S. Bearman, and Kathleen Mullan Harris at the University of North Carolina at Chapel Hill.\"}"
      ]
     },
     "execution_count": 153,
     "metadata": {},
     "output_type": "execute_result"
    }
   ],
   "source": [
    "get_fulltext(pubmed_id)"
   ]
  },
  {
   "cell_type": "code",
   "execution_count": 85,
   "metadata": {},
   "outputs": [
    {
     "data": {
      "text/plain": [
       "<?xml version=\"1.0\" encoding=\"utf-8\"?><!DOCTYPE html PUBLIC \"-//W3C//DTD XHTML 1.0 Transitional//EN\" \"http://www.w3.org/TR/xhtml1/DTD/xhtml1-transitional.dtd\">\n",
       "<html lang=\"en\" xml:lang=\"en\" xmlns=\"http://www.w3.org/1999/xhtml\">\n",
       "<head><meta content=\"text/html; charset=utf-8\" http-equiv=\"Content-Type\"/>\n",
       "<!-- AppResources meta begin -->\n",
       "<script type=\"text/javascript\">var ncbi_startTime = new Date();</script>\n",
       "<!-- AppResources meta end -->\n",
       "<!-- TemplateResources meta begin -->\n",
       "<meta content=\"error\" name=\"paf_template\"/>\n",
       "<!-- TemplateResources meta end -->\n",
       "<!-- Logger begin -->\n",
       "<meta content=\"pmc\" name=\"ncbi_app\"/><meta content=\"error\" name=\"ncbi_pdid\"/>\n",
       "<!-- Logger end -->\n",
       "<title>Page not available</title>\n",
       "<!-- AppResources external_resources begin -->\n",
       "<link href=\"/core/jig/1.14.8/css/jig.min.css\" rel=\"stylesheet\"/><script src=\"/core/jig/1.14.8/js/jig.min.js\" type=\"text/javascript\"></script>\n",
       "<!-- AppResources external_resources end -->\n",
       "<!-- Page meta begin -->\n",
       "<meta content=\"NOINDEX,NOFOLLOW,NOARCHIVE\" name=\"robots\" xmlns:ncbi-portal=\"http://ncbi.gov/portal/XSLT/namespace\" xmlns:np=\"http://ncbi.gov/portal/XSLT/namespace\" xmlns:xsi=\"http://www.w3.org/2001/XMLSchema-instance\"/><link href=\"/corehtml/pmc/css/3.9.1/pmc.min.css\" rel=\"stylesheet\" type=\"text/css\" xmlns:ncbi-portal=\"http://ncbi.gov/portal/XSLT/namespace\" xmlns:np=\"http://ncbi.gov/portal/XSLT/namespace\" xmlns:xsi=\"http://www.w3.org/2001/XMLSchema-instance\"/><script src=\"/corehtml/pmc/js/common.min.js\" type=\"text/javascript\" xmlns:ncbi-portal=\"http://ncbi.gov/portal/XSLT/namespace\" xmlns:np=\"http://ncbi.gov/portal/XSLT/namespace\" xmlns:xsi=\"http://www.w3.org/2001/XMLSchema-instance\">//</script><script src=\"/corehtml/pmc/js/NcbiTagServer.min.js\" type=\"text/javascript\" xmlns:ncbi-portal=\"http://ncbi.gov/portal/XSLT/namespace\" xmlns:np=\"http://ncbi.gov/portal/XSLT/namespace\" xmlns:xsi=\"http://www.w3.org/2001/XMLSchema-instance\">//</script><script src=\"/core/mathjax/2.6.1/MathJax.js?config=/corehtml/pmc/js/mathjax-config-classic.3.4.js\" type=\"text/javascript\" xmlns:ncbi-portal=\"http://ncbi.gov/portal/XSLT/namespace\" xmlns:np=\"http://ncbi.gov/portal/XSLT/namespace\" xmlns:xsi=\"http://www.w3.org/2001/XMLSchema-instance\"></script><script type=\"text/javascript\" xmlns:ncbi-portal=\"http://ncbi.gov/portal/XSLT/namespace\" xmlns:np=\"http://ncbi.gov/portal/XSLT/namespace\" xmlns:xsi=\"http://www.w3.org/2001/XMLSchema-instance\">window.name=\"mainwindow\";</script><style type=\"text/css\" xmlns:ncbi-portal=\"http://ncbi.gov/portal/XSLT/namespace\" xmlns:np=\"http://ncbi.gov/portal/XSLT/namespace\" xmlns:xsi=\"http://www.w3.org/2001/XMLSchema-instance\">.pmc-wm {background:transparent repeat-y top left;background-image:url(/corehtml/pmc/pmcgifs/wm-nobrand.png);background-size: auto, contain}</style><style type=\"text/css\" xmlns:ncbi-portal=\"http://ncbi.gov/portal/XSLT/namespace\" xmlns:np=\"http://ncbi.gov/portal/XSLT/namespace\" xmlns:xsi=\"http://www.w3.org/2001/XMLSchema-instance\">.print-view{display:block}</style>\n",
       "<!-- Page meta end -->\n",
       "<link href=\"//www.ncbi.nlm.nih.gov/favicon.ico\" rel=\"shortcut icon\"/><meta content=\"8A1A6969B09BE1710000000000D700BD.m_5\" name=\"ncbi_phid\"/>\n",
       "<meta content=\"origin-when-cross-origin\" name=\"referrer\"/><link href=\"//static.pubmed.gov/portal/portal3rc.fcgi/4160049/css/3852956/3985586/3808861/4121862/3974050/3917732/251717/4048120/3846471/14534/3861632/3881636/3579733/4062871/12930/3964959/4033350.css\" rel=\"stylesheet\" type=\"text/css\"/><link href=\"//static.pubmed.gov/portal/portal3rc.fcgi/4160049/css/3411343/3882866.css\" media=\"print\" rel=\"stylesheet\" type=\"text/css\"/></head>\n",
       "<body class=\"\">\n",
       "<div class=\"grid\">\n",
       "<div class=\"col twelve_col nomargin shadow\">\n",
       "<!-- System messages like service outage or JS required; this is handled by the TemplateResources portlet -->\n",
       "<div class=\"sysmessages\">\n",
       "<noscript>\n",
       "<p class=\"nojs\">\n",
       "<strong>Warning:</strong>\n",
       "\tThe NCBI web site requires JavaScript to function. \n",
       "\t<a href=\"/guide/browsers/#enablejs\" target=\"_blank\" title=\"Learn how to enable JavaScript\">more...</a>\n",
       "</p>\n",
       "</noscript>\n",
       "</div>\n",
       "<!--/.sysmessage-->\n",
       "<div class=\"wrap\">\n",
       "<div class=\"page\">\n",
       "<div class=\"top\">\n",
       "<div class=\"universal_header\" id=\"universal_header\"><ul class=\"inline_list jig-ncbimenu ui-ncbimenu resources_list\" id=\"navcontent\"><li class=\"ui-ncbimenu-item-leaf ui-ncbimenu-item-first ui-helper-reset ui-ncbimenu-item-no-hlt\"><a accesskey=\"1\" class=\"ui-ncbimenu-link-first\" href=\"/\" id=\"ncbihome\" role=\"banner\" title=\"NCBI Home\"><span class=\"offscreen_noflow\">NCBI</span><img alt=\"NCBI Logo\" class=\"ncbi_logo\" src=\"//static.pubmed.gov/portal/portal3rc.fcgi/4160049/img/28977\" title=\"NCBI\"/></a></li><li class=\"offscreen_noflow ui-ncbimenu-item-skip access\"><a accesskey=\"3\" href=\"#maincontent\" tabindex=\"0\" title=\"Skip to the content\">Skip to main\n",
       "                        content</a></li><li class=\"offscreen_noflow ui-ncbimenu-item-skip access\"><a accesskey=\"4\" href=\"#navcontent\" tabindex=\"0\" title=\"Skip to the navigation\">Skip to\n",
       "                        navigation</a></li><li class=\"topmenu ui-helper-reset ui-ncbimenu-item-first ui-helper-reset\" id=\"resource-menu\"><a class=\"ui-ncbimenu-first-link-has-submenu ui-ncbimenu-link-first topanchor expandDown\" href=\"/static/header_footer_ajax/submenu/#resources\">Resources</a></li><li class=\"topmenu ui-helper-reset ui-ncbimenu-item-first\" id=\"all-howtos-menu\"><a class=\"ui-ncbimenu-first-link-has-submenu ui-ncbimenu-link-first topanchor expandDown\" href=\"/static/header_footer_ajax/submenu/#howto\">How To</a></li><li class=\"offscreen_noflow ui-ncbimenu-item-skip access\"><a accesskey=\"0\" href=\"/guide/browsers/#accesskeys\" tabindex=\"0\" title=\"About My NCBI Accesskeys\">About NCBI Accesskeys</a></li></ul><div class=\"myncbi\"><span id=\"myncbiusername\" style=\"display:none\"><a href=\"/account/settings/\" id=\"mnu\" title=\"Edit account settings\"></a></span><a accesskey=\"2\" href=\"/myncbi/\" id=\"myncbi\" style=\"display:none\">My NCBI</a><a href=\"/account/\" id=\"sign_in\">Sign in to NCBI</a><a href=\"/account/signout/\" id=\"sign_out\" style=\"display:none\">Sign Out</a></div></div>\n",
       "<div class=\"header\">\n",
       "<div class=\"res_logo\">\n",
       "<h1 class=\"img_logo\"><a class=\"pmc_logo offscreen\" href=\"/pmc/\">PMC</a></h1>\n",
       "<div class=\"NLMLogo\">\n",
       "<a href=\"https://www.nlm.nih.gov/\" title=\"US National Library of Medicine\">US National Library of Medicine</a>\n",
       "<br/>\n",
       "<a href=\"https://www.nih.gov/\" title=\"National Institutes of Health\">National Institutes of Health</a>\n",
       "</div>\n",
       "</div>\n",
       "<div class=\"search\"><form action=\"/pmc/\" method=\"get\"><div class=\"search_form\"><label class=\"offscreen_noflow\" for=\"database\">Search database</label><select id=\"database\"><optgroup label=\"Recent\"><option class=\"last\" data-ac_dict=\"pmc-search-autocomplete\" selected=\"selected\" value=\"pmc\">PMC</option></optgroup><optgroup label=\"All\"><option value=\"gquery\">All Databases</option><option value=\"assembly\">Assembly</option><option value=\"biocollections\">Biocollections</option><option value=\"bioproject\">BioProject</option><option value=\"biosample\">BioSample</option><option value=\"biosystems\">BioSystems</option><option value=\"books\">Books</option><option value=\"clinvar\">ClinVar</option><option value=\"clone\">Clone</option><option value=\"cdd\">Conserved Domains</option><option value=\"gap\">dbGaP</option><option value=\"dbvar\">dbVar</option><option value=\"nucest\">EST</option><option value=\"gene\">Gene</option><option value=\"genome\">Genome</option><option value=\"gds\">GEO DataSets</option><option value=\"geoprofiles\">GEO Profiles</option><option value=\"nucgss\">GSS</option><option value=\"gtr\">GTR</option><option value=\"homologene\">HomoloGene</option><option value=\"ipg\">Identical Protein Groups</option><option value=\"medgen\">MedGen</option><option value=\"mesh\">MeSH</option><option value=\"ncbisearch\">NCBI Web Site</option><option value=\"nlmcatalog\">NLM Catalog</option><option value=\"nuccore\">Nucleotide</option><option value=\"omim\">OMIM</option><option data-ac_dict=\"pmc-search-autocomplete\" value=\"pmc\">PMC</option><option value=\"popset\">PopSet</option><option value=\"probe\">Probe</option><option value=\"protein\">Protein</option><option value=\"proteinclusters\">Protein Clusters</option><option value=\"pcassay\">PubChem BioAssay</option><option value=\"pccompound\">PubChem Compound</option><option value=\"pcsubstance\">PubChem Substance</option><option value=\"pubmed\">PubMed</option><option value=\"pubmedhealth\">PubMed Health</option><option value=\"snp\">SNP</option><option value=\"sparcle\">Sparcle</option><option value=\"sra\">SRA</option><option value=\"structure\">Structure</option><option value=\"taxonomy\">Taxonomy</option><option value=\"toolkit\">ToolKit</option><option value=\"toolkitall\">ToolKitAll</option><option value=\"toolkitbookgh\">ToolKitBookgh</option><option value=\"unigene\">UniGene</option></optgroup></select><div class=\"nowrap\"><label accesskey=\"/\" class=\"offscreen_noflow\" for=\"term\">Search term</label><div class=\"nowrap\"><input autocomplete=\"off\" class=\"jig-ncbiclearbutton jig-ncbiautocomplete\" data-jigconfig=\"dictionary:'pmc-search-autocomplete',disableUrl:'NcbiSearchBarAutoComplCtrl'\" data-sbconfig=\"ds:'no',pjs:'no',afs:'yes'\" id=\"term\" name=\"term\" title=\"Search PMC. Use up and down arrows to choose an item from the autocomplete.\" type=\"text\" value=\"\"/></div><button class=\"button_search nowrap\" cmd=\"go\" id=\"search\" type=\"submit\">Search</button></div></div></form><ul class=\"searchlinks inline_list\"><li>\n",
       "<a href=\"/pmc/advanced/\">Advanced</a>\n",
       "</li><li>\n",
       "<a href=\"/pmc/journals/\">Journal list</a>\n",
       "</li><li class=\"help\">\n",
       "<a href=\"/books/NBK3825/\" target=\"_blank\">Help</a>\n",
       "</li></ul></div>\n",
       "</div>\n",
       "<!--<component id=\"Page\" label=\"headcontent\"/>-->\n",
       "</div>\n",
       "<div class=\"content\">\n",
       "<!-- site messages -->\n",
       "<div class=\"container\">\n",
       "<div class=\"twelve_col col\" id=\"maincontent\">\n",
       "<div class=\"col1\">\n",
       "<div>\n",
       "<div class=\"pmc-page-banner whole_rhythm\">\n",
       "<h1 class=\"banner-color1 banner-text banner-title\">Page not available</h1>\n",
       "</div>\n",
       "<div class=\"main-exception-content\">\n",
       "<p>\n",
       "<em>Your access to PubMed Central has been blocked because you are using an automated process to retrieve content from PMC, in violation of the terms of the PMC Copyright Notice.</em>\n",
       "</p>\n",
       "<div class=\"pmc-warning-box el-exception-box shadow whole_rhythm\">\n",
       "<div class=\"el-exception-reason\"><span style=\"font-weight: bold;\">Reason: </span>Automated retrieval by user agent \"python-requests/2.18.4\".</div>\n",
       "<div class=\"el-exception-url\"><span style=\"font-weight: bold;\">URL: </span>https://www.ncbi.nlm.nih.gov/pmc/articles/PMC5114402/</div>\n",
       "<div class=\"el-exception-id\"><span style=\"font-weight: bold;\">Message ID: </span>561503887 (ipmc21)</div>\n",
       "<div class=\"el-exception-time\"><span style=\"font-weight: bold;\">Time: </span>2018/05/26 16:15:31</div></div>\n",
       "<p>Use of PMC is free, but must comply with the terms of the <a href=\"/pmc/about/copyright/\">Copyright Notice</a> on the PMC site. For additional information, or to request that your IP address be unblocked, <span class=\"el-contact-help\">please send an <a href=\"mailto:pubmedcentral@nih.gov?subject=%5BPMC%20Exception%20Feedback%5D%3A%20Blocked%20request.%20Reason%3A%20Automated%20retrieval%20by%20user%20agent%20%22python-requests%2F2.18.4%22.&amp;body=%3E%20%0A%3E%20Reason%3A%20Automated%20retrieval%20by%20user%20agent%20%22python-requests%2F2.18.4%22.%0A%3E%20URL%3A%20https%3A%2F%2Fwww.ncbi.nlm.nih.gov%2Fpmc%2Farticles%2FPMC5114402%2F%0A%3E%20Message%20ID%3A%20561503887%20(ipmc21)%0A%3E%20Time%3A%202018%2F05%2F26%2016%3A15%3A31\">email to PMC</a>.</span> For requests to be unblocked, you <em>must</em> include all of the information in the box above in your message.</p>\n",
       "</div>\n",
       "</div>\n",
       "</div>\n",
       "<div class=\"col2\">\n",
       "</div>\n",
       "<div class=\"col3\">\n",
       "</div>\n",
       "<div class=\"col4\">\n",
       "</div>\n",
       "<div class=\"col5\">\n",
       "</div>\n",
       "<div class=\"col6\">\n",
       "</div>\n",
       "<div class=\"col7\">\n",
       "</div>\n",
       "<div class=\"col8\">\n",
       "</div>\n",
       "<div class=\"col9\">\n",
       "</div>\n",
       "</div>\n",
       "</div>\n",
       "</div>\n",
       "<div class=\"bottom\">\n",
       "<div id=\"NCBIFooter_dynamic\">\n",
       "<a class=\"help_desk\" href=\"\" id=\"help-desk-link\" target=\"_blank\">Support Center</a>\n",
       "<a class=\"help_desk\" href=\"https://support.ncbi.nlm.nih.gov/ics/support/KBList.asp?Time=2018-05-26T16:15:31-04:00&amp;Snapshot=%2Fprojects%2FPMC%2FPMCViewer@4.46&amp;Host=ptpmc101&amp;ncbi_phid=8A1A6969B09BE1710000000000D700BD&amp;ncbi_session=F4FB7E24B09C0631_0042SID&amp;from=https%3A%2F%2Fwww.ncbi.nlm.nih.gov%2Fpmc%2Farticles%2FPMC5114402%2F&amp;Db=pmc&amp;folderID=132&amp;Ncbi_App=pmc&amp;Page=error&amp;style=classic&amp;deptID=28049\" id=\"help-desk-link\" target=\"_blank\">Support Center</a>\n",
       "</div>\n",
       "<div class=\"footer\" id=\"footer\">\n",
       "<div class=\"subfooter\"> </div><script src=\"/portal/portal3rc.fcgi/static/js/preloaderWidget.js\" type=\"text/javascript\"> </script>\n",
       "<div class=\"offscreen_noflow\" id=\"external-disclaimer\">\n",
       "        External link. Please review our <a href=\"https://www.nlm.nih.gov/privacy.html\">privacy policy</a>.\n",
       "    </div>\n",
       "<div class=\"contact_info\" id=\"ncbifooter\">\n",
       "<div id=\"footer-contents-right\">\n",
       "<div id=\"nlm_thumb_logo\">\n",
       "<a href=\"https://www.nlm.nih.gov\" title=\"NLM\">NLM</a>\n",
       "</div>\n",
       "<div id=\"nih_thumb_logo\">\n",
       "<a href=\"https://www.nih.gov\" title=\"NIH\">NIH</a>\n",
       "</div>\n",
       "<div id=\"hhs_thumb_logo\">\n",
       "<a href=\"https://www.hhs.gov\" title=\"DHHS\">DHHS</a>\n",
       "</div>\n",
       "<div id=\"usagov_thumb_logo\">\n",
       "<a href=\"https://www.usa.gov\" title=\"USA.gov\">USA.gov</a>\n",
       "</div>\n",
       "</div>\n",
       "<div id=\"footer-contents-left\">\n",
       "<p class=\"address vcard\">\n",
       "<span class=\"url\">\n",
       "<a class=\"fn url newdomain\" href=\"https://www.ncbi.nlm.nih.gov\">National Center for\n",
       "                        Biotechnology Information</a>,\n",
       "                </span> <span class=\"org url newdomain\"><a href=\"https://www.nlm.nih.gov/\">U.S. National Library of Medicine</a></span>\n",
       "<span class=\"adr\">\n",
       "<span class=\"street-address\">8600 Rockville Pike</span>, <span class=\"locality\">Bethesda</span>\n",
       "<span class=\"region\">MD</span>, <span class=\"postal-code\">20894</span>\n",
       "<span class=\"country-name\">USA</span>\n",
       "</span>\n",
       "</p>\n",
       "<a href=\"/home/about/policies.shtml\">Policies and Guidelines</a> | <a href=\"/home/about/contact.shtml\">Contact</a>\n",
       "</div>\n",
       "</div>\n",
       "<script src=\"/portal/portal3rc.fcgi/rlib/js/InstrumentOmnitureBaseJS/InstrumentNCBIConfigJS/InstrumentNCBIBaseJS/InstrumentPageStarterJS.js?v=1\" type=\"text/javascript\"> </script>\n",
       "<script src=\"/portal/portal3rc.fcgi/static/js/hfjs2.js\" type=\"text/javascript\"> </script>\n",
       "</div>\n",
       "</div>\n",
       "</div>\n",
       "<!--/.page-->\n",
       "</div>\n",
       "<!--/.wrap-->\n",
       "</div><!-- /.twelve_col -->\n",
       "</div>\n",
       "<!-- /.grid -->\n",
       "<span class=\"PAFAppResources\"></span>\n",
       "<!-- BESelector tab -->\n",
       "<noscript><img alt=\"statistics\" src=\"/stat?jsdisabled=true&amp;ncbi_app=pmc&amp;ncbi_pdid=error\"/></noscript>\n",
       "<!-- usually for JS scripts at page bottom -->\n",
       "<!--<component id=\"PageFixtures\" label=\"styles\"></component>-->\n",
       "<!-- F4FB7E24B09C0631_0042SID /projects/PMC/PMCViewer@4.46 ptpmc101 v4.1.r563004 Tue, May 01 2018 03:01:28 -->\n",
       "<script snapshot=\"pmc\" src=\"//static.pubmed.gov/portal/portal3rc.fcgi/4160049/js/3879255/4121861/3818874/4168176/4087685.js\" type=\"text/javascript\"></script></body>\n",
       "</html>"
      ]
     },
     "execution_count": 85,
     "metadata": {},
     "output_type": "execute_result"
    }
   ],
   "source": [
    "fulltexts[0]"
   ]
  },
  {
   "cell_type": "code",
   "execution_count": 70,
   "metadata": {},
   "outputs": [
    {
     "data": {
      "text/plain": [
       "[{'class': ['sec']},\n",
       " {'class': ['tsec', 'sec'], 'id': 'idm139627154362192', 'lang': 'en'},\n",
       " {'class': ['sec']},\n",
       " {'class': ['tsec', 'sec'], 'id': '__sec1'},\n",
       " {'class': ['tsec', 'sec'], 'id': '__sec2'},\n",
       " {'class': ['sec', 'sec-first'], 'id': '__sec3'},\n",
       " {'class': ['sec'], 'id': '__sec4'},\n",
       " {'class': ['sec'], 'id': '__sec5'},\n",
       " {'class': ['sec'], 'id': '__sec6'},\n",
       " {'class': ['sec'], 'id': '__sec7'},\n",
       " {'class': ['sec'], 'id': '__sec8'},\n",
       " {'class': ['sec', 'sec-last'], 'id': '__sec9'},\n",
       " {'class': ['tsec', 'sec'], 'id': '__sec10'},\n",
       " {'class': ['sec', 'sec-first'], 'id': '__sec11'},\n",
       " {'class': ['sec'], 'id': '__sec12'},\n",
       " {'class': ['sec'], 'id': '__sec13'},\n",
       " {'class': ['sec'], 'id': '__sec14'},\n",
       " {'class': ['sec', 'sec-last'], 'id': '__sec15'},\n",
       " {'class': ['tsec', 'sec'], 'id': '__sec16'},\n",
       " {'class': ['tsec', 'sec'], 'id': 'idm139627152227984'},\n",
       " {'class': ['sec']},\n",
       " {'class': ['tsec', 'sec'], 'id': 'idm139627157974048'},\n",
       " {'class': ['ref-list-sec', 'sec'], 'id': 'reference-list'}]"
      ]
     },
     "execution_count": 70,
     "metadata": {},
     "output_type": "execute_result"
    }
   ],
   "source": [
    "[n.attrs for n in fulltexts[1].find_all(class_=\"sec\")]"
   ]
  },
  {
   "cell_type": "code",
   "execution_count": 67,
   "metadata": {},
   "outputs": [
    {
     "data": {
      "text/plain": [
       "[{'class': ['fm-sec', 'half_rhythm', 'no_top_margin']},\n",
       " {'class': ['sec']},\n",
       " {'class': ['tsec', 'sec'], 'id': 'idm139953541649152', 'lang': 'en'},\n",
       " {'class': ['tsec', 'sec'], 'id': '__sec1'},\n",
       " {'class': ['tsec', 'sec'], 'id': '__sec2'},\n",
       " {'class': ['tsec', 'sec'], 'id': '__sec10'},\n",
       " {'class': ['tsec', 'sec'], 'id': '__sec16'},\n",
       " {'class': ['tsec', 'sec'], 'id': 'idm139953548534096'},\n",
       " {'class': ['tsec', 'sec'], 'id': 'idm139953548533088'}]"
      ]
     },
     "execution_count": 67,
     "metadata": {},
     "output_type": "execute_result"
    }
   ],
   "source": [
    "[ n.attrs for n in list(fulltexts[1].children)]"
   ]
  },
  {
   "cell_type": "code",
   "execution_count": 43,
   "metadata": {},
   "outputs": [
    {
     "name": "stdout",
     "output_type": "stream",
     "text": [
      "www.jbc.org 3\n",
      "www.ncbi.nlm.nih.gov 24\n",
      "www.scielo.br 1\n",
      "linkinghub.elsevier.com 10\n",
      "www.researchprotocols.org 1\n",
      "Insights.ovid.com 2\n",
      "publichealth.jmir.org 1\n",
      "dx.doi.org 9\n",
      "dx.plos.org 5\n",
      "academic.oup.com 1\n",
      "jamanetwork.com 4\n",
      "archpedi.jamanetwork.com 1\n",
      "archinte.jamanetwork.com 1\n",
      "ejbc.kr 1\n",
      "www.neurology.org 2\n",
      "mcb.asm.org 4\n"
     ]
    }
   ],
   "source": [
    "for i in stems:\n",
    "    print(i, stems[i])"
   ]
  },
  {
   "cell_type": "code",
   "execution_count": 25,
   "metadata": {},
   "outputs": [
    {
     "data": {
      "text/plain": [
       "'9371907'"
      ]
     },
     "execution_count": 25,
     "metadata": {},
     "output_type": "execute_result"
    }
   ],
   "source": [
    "retracted_pubmed[36][\"publication\"][\"pubmed_id\"]"
   ]
  },
  {
   "cell_type": "code",
   "execution_count": 7,
   "metadata": {},
   "outputs": [],
   "source": [
    "pubmed_sample = fulltext_links( retracted_pubmed[0][\"publication\"][\"pubmed_id\"] )"
   ]
  },
  {
   "cell_type": "code",
   "execution_count": 8,
   "metadata": {},
   "outputs": [
    {
     "data": {
      "text/plain": [
       "['http://www.jbc.org/cgi/pmidlookup?view=long&pmid=27687725',\n",
       " 'https://www.ncbi.nlm.nih.gov/pmc/articles/pmid/27687725/']"
      ]
     },
     "execution_count": 8,
     "metadata": {},
     "output_type": "execute_result"
    }
   ],
   "source": []
  },
  {
   "cell_type": "code",
   "execution_count": 71,
   "metadata": {},
   "outputs": [],
   "source": [
    "anchors = (pubmed_sample.find(\"div\", class_=\"icons portlet\").find_all(\"a\"))"
   ]
  },
  {
   "cell_type": "code",
   "execution_count": 79,
   "metadata": {},
   "outputs": [
    {
     "data": {
      "text/plain": [
       "['http://www.jbc.org/cgi/pmidlookup?view=long&pmid=27687725',\n",
       " 'https://www.ncbi.nlm.nih.gov/pmc/articles/pmid/27687725/']"
      ]
     },
     "execution_count": 79,
     "metadata": {},
     "output_type": "execute_result"
    }
   ],
   "source": [
    "[a.attrs[\"href\"] for a in anchors]"
   ]
  },
  {
   "cell_type": "code",
   "execution_count": 76,
   "metadata": {},
   "outputs": [
    {
     "data": {
      "text/plain": [
       "<a free_status=\"free\" href=\"http://www.jbc.org/cgi/pmidlookup?view=long&amp;pmid=27687725\" journal=\"J Biol Chem\" ref=\"PrId=3051&amp;itool=Abstract-def&amp;uid=27687725&amp;nlmid=2985121R&amp;db=pubmed&amp;log$=linkouticon\" target=\"_blank\"><img alt=\"Icon for HighWire\" border=\"0\" src=\"//www.ncbi.nlm.nih.gov/corehtml/query/egifs/http:--highwire.stanford.edu-icons-externalservices-pubmed-standard-jbc_final_free.gif\" title=\"Read full text in HighWire\"/></a>"
      ]
     },
     "execution_count": 76,
     "metadata": {},
     "output_type": "execute_result"
    }
   ],
   "source": [
    "retracted"
   ]
  },
  {
   "cell_type": "code",
   "execution_count": 78,
   "metadata": {},
   "outputs": [
    {
     "data": {
      "text/plain": [
       "'http://www.jbc.org/cgi/pmidlookup?view=long&pmid=27687725'"
      ]
     },
     "execution_count": 78,
     "metadata": {},
     "output_type": "execute_result"
    }
   ],
   "source": [
    "a.attrs[\"href\"]"
   ]
  },
  {
   "cell_type": "code",
   "execution_count": 4,
   "metadata": {},
   "outputs": [],
   "source": [
    "rows = soup.find_all(attrs={\"class\":\"mainrow\"})"
   ]
  },
  {
   "cell_type": "code",
   "execution_count": 6,
   "metadata": {
    "scrolled": false
   },
   "outputs": [
    {
     "name": "stdout",
     "output_type": "stream",
     "text": [
      "277\n"
     ]
    }
   ],
   "source": [
    "print(len(rows))"
   ]
  },
  {
   "cell_type": "code",
   "execution_count": 6,
   "metadata": {},
   "outputs": [
    {
     "name": "stdout",
     "output_type": "stream",
     "text": [
      "<tr class=\"mainrow\" style=\"background-color:White;\">\n",
      " <td class=\"hidden smallFont\" style=\"color:Black;\">\n",
      "  4376\n",
      " </td>\n",
      " <td class=\"smallFont\" id=\"grdRetraction_Title_9\" style=\"border-color:Silver;\" title=\"4376\">\n",
      "  <a href=\"javascript:__doPostBack('grdRetraction','Select$4376')\" onclick=\"return false;\" style=\"cursor:default;\">\n",
      "   <span class=\"rTitleNotIE\">\n",
      "    Collecting duct carcinoma of the kidney: a clinicopathological study of five cases\n",
      "   </span>\n",
      "   <br/>\n",
      "   <span class=\"rSubject\">\n",
      "    (BLS) Biology - Cancer; (HSC) Medicine - Oncology; (HSC) Medicine - Pathology; (HSC) Medicine - Urology;\n",
      "   </span>\n",
      "   <br/>\n",
      "   <span class=\"rJournal\" style=\"white-space:normal\">\n",
      "    <span class=\"rJournal\">\n",
      "     Diagnostic Pathology ---\n",
      "    </span>\n",
      "    <span class=\"rPublisher\">\n",
      "     BioMed Central (BMC)\n",
      "    </span>\n",
      "   </span>\n",
      "   <br/>\n",
      "   <span class=\"rInstitution\" style=\"border-bottom: 2px solid rgb(0, 102, 33); border-top-style: solid; border-top-width: 2px;\">\n",
      "    Department of Urology, Henan Provincial People’s Hospital, Zhengzhou\n",
      "   </span>\n",
      "   <br/>\n",
      "  </a>\n",
      "  <a class=\"urls\" href=\"http://retractionwatch.com/2015/03/26/biomed-central-retracting-43-papers-for-fake-peer-review/\">\n",
      "   http://retractionwatch.com/2015/03/26/biomed-central-retracting-43-papers-for-fake-peer-review/\n",
      "  </a>\n",
      " </td>\n",
      " <td class=\"smallFont\" style=\"border-color:Silver;\">\n",
      "  <div class=\"rReason\">\n",
      "   +Fake Peer Review\n",
      "  </div>\n",
      "  <div class=\"rReason\">\n",
      "   +Investigation by Journal/Publisher\n",
      "  </div>\n",
      "  <div class=\"rReason\" style=\"border-bottom-style: none;\">\n",
      "   +Misconduct by Third Party\n",
      "  </div>\n",
      " </td>\n",
      " <td class=\"smallFont\" style=\"border-color:Silver;white-space:nowrap;\">\n",
      "  <a class=\"authorLink\" href=\"#\">\n",
      "   Xiangyang Wang\n",
      "  </a>\n",
      "  <br/>\n",
      "  <a class=\"authorLink\" href=\"#\">\n",
      "   Jianwei Hao\n",
      "  </a>\n",
      "  <br/>\n",
      "  <a class=\"authorLink\" href=\"#\">\n",
      "   Ruijin Zhou\n",
      "  </a>\n",
      "  <br/>\n",
      "  <a class=\"authorLink\" href=\"#\">\n",
      "   Xiangsheng Zhang\n",
      "  </a>\n",
      "  <br/>\n",
      "  <a class=\"authorLink\" href=\"#\">\n",
      "   Tianzhong Yan\n",
      "  </a>\n",
      "  <br/>\n",
      "  <a class=\"authorLink\" href=\"#\">\n",
      "   Degang Ding\n",
      "  </a>\n",
      "  <br/>\n",
      "  <a class=\"authorLink\" href=\"#\">\n",
      "   Lei Shan\n",
      "  </a>\n",
      "  <br/>\n",
      "  <a class=\"authorLink\" href=\"#\">\n",
      "   Zhonghua Liu\n",
      "  </a>\n",
      " </td>\n",
      " <td class=\"smallFont\" style=\"border-color:Silver;\">\n",
      "  06/17/2013\n",
      "  <br/>\n",
      "  23773436\n",
      "  <br/>\n",
      "  <span class=\"rNature\">\n",
      "   10.1186/1746-1596-8-96\n",
      "  </span>\n",
      " </td>\n",
      " <td class=\"smallFont\" style=\"border-color:Silver;\">\n",
      "  03/26/2015\n",
      "  <br/>\n",
      "  25884188\n",
      "  <br/>\n",
      "  <span class=\"rNature\">\n",
      "   10.1186/s13000-015-0239-7\n",
      "  </span>\n",
      " </td>\n",
      " <td class=\"wrapCell smallFont\" style=\"border-color:Silver;width:12%;\">\n",
      "  Case Report\n",
      "  <br/>\n",
      "  Clinical Study\n",
      "  <br/>\n",
      "  <span class=\"rNature\">\n",
      "   Retraction\n",
      "  </span>\n",
      " </td>\n",
      " <td align=\"center\" class=\"smallFont\" style=\"border-color:Silver;white-space:nowrap;\">\n",
      "  <span>\n",
      "   China\n",
      "   <br/>\n",
      "   <span class=\"rPaywalled\">\n",
      "    No\n",
      "   </span>\n",
      "  </span>\n",
      "  <img alt=\"Notes\" border=\"0\" class=\"Notes\" id=\"imgNotes\" src=\"../Images/Notes.png\" style=\"display:none\" title=\"\"/>\n",
      "  <img alt=\"NotesAdmin\" border=\"0\" class=\"NotesAdmin\" id=\"imgNotesAdmin\" src=\"../Images/NotesAdmin.png\" style=\"display:none;margin-top:2px;\" title=\"\"/>\n",
      " </td>\n",
      "</tr>\n",
      "\n"
     ]
    }
   ],
   "source": [
    "print (rows[9].prettify ())"
   ]
  },
  {
   "cell_type": "code",
   "execution_count": 10,
   "metadata": {},
   "outputs": [
    {
     "data": {
      "text/plain": [
       "'Spandidos'"
      ]
     },
     "execution_count": 10,
     "metadata": {},
     "output_type": "execute_result"
    }
   ],
   "source": [
    "rows[0].find(class_=\"rPublisher\").text"
   ]
  },
  {
   "cell_type": "code",
   "execution_count": 8,
   "metadata": {},
   "outputs": [],
   "source": [
    "a = [5,3,41]"
   ]
  },
  {
   "cell_type": "code",
   "execution_count": 13,
   "metadata": {},
   "outputs": [
    {
     "ename": "IndexError",
     "evalue": "pop from empty list",
     "output_type": "error",
     "traceback": [
      "\u001b[0;31m---------------------------------------------------------------------------\u001b[0m",
      "\u001b[0;31mIndexError\u001b[0m                                Traceback (most recent call last)",
      "\u001b[0;32m<ipython-input-13-0d645aeb2621>\u001b[0m in \u001b[0;36m<module>\u001b[0;34m()\u001b[0m\n\u001b[0;32m----> 1\u001b[0;31m \u001b[0mprint\u001b[0m\u001b[0;34m(\u001b[0m\u001b[0ma\u001b[0m\u001b[0;34m.\u001b[0m\u001b[0mpop\u001b[0m\u001b[0;34m(\u001b[0m\u001b[0;34m)\u001b[0m\u001b[0;34m)\u001b[0m\u001b[0;34m\u001b[0m\u001b[0m\n\u001b[0m\u001b[1;32m      2\u001b[0m \u001b[0mprint\u001b[0m\u001b[0;34m(\u001b[0m\u001b[0ma\u001b[0m\u001b[0;34m)\u001b[0m\u001b[0;34m\u001b[0m\u001b[0m\n",
      "\u001b[0;31mIndexError\u001b[0m: pop from empty list"
     ]
    }
   ],
   "source": [
    "print(a.pop())\n",
    "print(a)"
   ]
  },
  {
   "cell_type": "code",
   "execution_count": 5,
   "metadata": {},
   "outputs": [
    {
     "data": {
      "text/plain": [
       "<img alt=\"NotesAdmin\" border=\"0\" class=\"NotesAdmin\" id=\"imgNotesAdmin\" src=\"../Images/NotesAdmin.png\" style=\"display:none;margin-top:2px;\" title=\"\"/>"
      ]
     },
     "execution_count": 5,
     "metadata": {},
     "output_type": "execute_result"
    }
   ],
   "source": [
    "a = rows[30].find(class_=\"authorLink\").parent\n",
    "p = a.find_next_sibling()\n",
    "r = p.find_next_sibling()\n",
    "t = r.find_next_sibling()\n",
    "f = t.find_next_sibling()\n",
    "list(f.children).pop(-2)"
   ]
  },
  {
   "cell_type": "code",
   "execution_count": 16,
   "metadata": {},
   "outputs": [],
   "source": [
    "acc = \"\"\n",
    "for b in list(p.children):\n",
    "    acc = acc + str(b)"
   ]
  },
  {
   "cell_type": "code",
   "execution_count": 31,
   "metadata": {},
   "outputs": [
    {
     "data": {
      "text/plain": [
       "['08/20/2009',\n",
       " '19693644',\n",
       " <span class=\"rNature\">10.1007/s11845-009-0394-5</span>]"
      ]
     },
     "execution_count": 31,
     "metadata": {},
     "output_type": "execute_result"
    }
   ],
   "source": [
    "[type(ch) for ch in list(p.children)]\n",
    "[ch for ch in list(p.children) if ch.name != \"br\"]"
   ]
  },
  {
   "cell_type": "code",
   "execution_count": 24,
   "metadata": {},
   "outputs": [
    {
     "data": {
      "text/plain": [
       "['07/25/2016']"
      ]
     },
     "execution_count": 24,
     "metadata": {},
     "output_type": "execute_result"
    }
   ],
   "source": [
    "[(a) for a in list(p.children) if str(a) == a]\n"
   ]
  },
  {
   "cell_type": "code",
   "execution_count": 12,
   "metadata": {},
   "outputs": [
    {
     "ename": "AttributeError",
     "evalue": "'NavigableString' object has no attribute 'text'",
     "output_type": "error",
     "traceback": [
      "\u001b[0;31m---------------------------------------------------------------------------\u001b[0m",
      "\u001b[0;31mAttributeError\u001b[0m                            Traceback (most recent call last)",
      "\u001b[0;32m<ipython-input-12-92b0c2c00ca4>\u001b[0m in \u001b[0;36m<module>\u001b[0;34m()\u001b[0m\n\u001b[0;32m----> 1\u001b[0;31m \u001b[0mread_table\u001b[0m\u001b[0;34m(\u001b[0m\u001b[0msoup\u001b[0m\u001b[0;34m)\u001b[0m\u001b[0;34m\u001b[0m\u001b[0m\n\u001b[0m",
      "\u001b[0;32m~/data_science/retraction_watch/parser.py\u001b[0m in \u001b[0;36mread_table\u001b[0;34m(soup)\u001b[0m\n\u001b[1;32m     64\u001b[0m     \u001b[0mpapers\u001b[0m \u001b[0;34m=\u001b[0m \u001b[0;34m[\u001b[0m\u001b[0;34m]\u001b[0m\u001b[0;34m\u001b[0m\u001b[0m\n\u001b[1;32m     65\u001b[0m     \u001b[0;32mfor\u001b[0m \u001b[0mrow\u001b[0m \u001b[0;32min\u001b[0m \u001b[0mrows\u001b[0m\u001b[0;34m:\u001b[0m\u001b[0;34m\u001b[0m\u001b[0m\n\u001b[0;32m---> 66\u001b[0;31m         \u001b[0mpapers\u001b[0m\u001b[0;34m.\u001b[0m\u001b[0mappend\u001b[0m \u001b[0;34m(\u001b[0m\u001b[0mread_row\u001b[0m \u001b[0;34m(\u001b[0m\u001b[0mrow\u001b[0m\u001b[0;34m)\u001b[0m\u001b[0;34m)\u001b[0m\u001b[0;34m\u001b[0m\u001b[0m\n\u001b[0m\u001b[1;32m     67\u001b[0m     \u001b[0;32mreturn\u001b[0m \u001b[0mpapers\u001b[0m\u001b[0;34m\u001b[0m\u001b[0m\n",
      "\u001b[0;32m~/data_science/retraction_watch/parser.py\u001b[0m in \u001b[0;36mread_row\u001b[0;34m(soup)\u001b[0m\n\u001b[1;32m     47\u001b[0m     \u001b[0mpaper\u001b[0m\u001b[0;34m[\u001b[0m\u001b[0;34m\"retraction\"\u001b[0m\u001b[0;34m]\u001b[0m \u001b[0;34m=\u001b[0m \u001b[0mread_block\u001b[0m\u001b[0;34m(\u001b[0m\u001b[0mretraction_block\u001b[0m\u001b[0;34m)\u001b[0m\u001b[0;34m\u001b[0m\u001b[0m\n\u001b[1;32m     48\u001b[0m     \u001b[0mpaper\u001b[0m\u001b[0;34m[\u001b[0m\u001b[0;34m\"doc_type\"\u001b[0m\u001b[0;34m]\u001b[0m \u001b[0;34m=\u001b[0m \u001b[0mlist\u001b[0m\u001b[0;34m(\u001b[0m\u001b[0mtype_block\u001b[0m\u001b[0;34m.\u001b[0m\u001b[0mchildren\u001b[0m\u001b[0;34m)\u001b[0m\u001b[0;34m[\u001b[0m\u001b[0;36m0\u001b[0m\u001b[0;34m]\u001b[0m\u001b[0;34m\u001b[0m\u001b[0m\n\u001b[0;32m---> 49\u001b[0;31m     \u001b[0mpaper\u001b[0m\u001b[0;34m[\u001b[0m\u001b[0;34m\"notice_type\"\u001b[0m\u001b[0;34m]\u001b[0m \u001b[0;34m=\u001b[0m \u001b[0mlist\u001b[0m\u001b[0;34m(\u001b[0m\u001b[0mtype_block\u001b[0m\u001b[0;34m.\u001b[0m\u001b[0mchildren\u001b[0m\u001b[0;34m)\u001b[0m\u001b[0;34m[\u001b[0m\u001b[0;36m2\u001b[0m\u001b[0;34m]\u001b[0m\u001b[0;34m.\u001b[0m\u001b[0mtext\u001b[0m\u001b[0;34m\u001b[0m\u001b[0m\n\u001b[0m\u001b[1;32m     50\u001b[0m     \u001b[0;31m# sorry zach\u001b[0m\u001b[0;34m\u001b[0m\u001b[0;34m\u001b[0m\u001b[0m\n\u001b[1;32m     51\u001b[0m     \u001b[0mt\u001b[0m \u001b[0;34m=\u001b[0m \u001b[0mlist\u001b[0m\u001b[0;34m(\u001b[0m\u001b[0mfinal_block\u001b[0m\u001b[0;34m.\u001b[0m\u001b[0mchildren\u001b[0m\u001b[0;34m)\u001b[0m\u001b[0;34m[\u001b[0m\u001b[0;36m1\u001b[0m\u001b[0;34m]\u001b[0m\u001b[0;34m\u001b[0m\u001b[0m\n",
      "\u001b[0;32m/nix/store/dwxpklb4zb4y7svbkfis1n760766ry2m-python3-3.6.5-env/lib/python3.6/site-packages/bs4/element.py\u001b[0m in \u001b[0;36m__getattr__\u001b[0;34m(self, attr)\u001b[0m\n\u001b[1;32m    735\u001b[0m             raise AttributeError(\n\u001b[1;32m    736\u001b[0m                 \"'%s' object has no attribute '%s'\" % (\n\u001b[0;32m--> 737\u001b[0;31m                     self.__class__.__name__, attr))\n\u001b[0m\u001b[1;32m    738\u001b[0m \u001b[0;34m\u001b[0m\u001b[0m\n\u001b[1;32m    739\u001b[0m     \u001b[0;32mdef\u001b[0m \u001b[0moutput_ready\u001b[0m\u001b[0;34m(\u001b[0m\u001b[0mself\u001b[0m\u001b[0;34m,\u001b[0m \u001b[0mformatter\u001b[0m\u001b[0;34m=\u001b[0m\u001b[0;34m\"minimal\"\u001b[0m\u001b[0;34m)\u001b[0m\u001b[0;34m:\u001b[0m\u001b[0;34m\u001b[0m\u001b[0m\n",
      "\u001b[0;31mAttributeError\u001b[0m: 'NavigableString' object has no attribute 'text'"
     ]
    }
   ],
   "source": [
    "read_table(soup)"
   ]
  },
  {
   "cell_type": "code",
   "execution_count": 129,
   "metadata": {},
   "outputs": [
    {
     "data": {
      "text/plain": [
       "{'class': ['mainrow'],\n",
       " 'style': 'background-color:LightYellow;border-color:Black;border-width:1px;border-style:Solid;'}"
      ]
     },
     "execution_count": 129,
     "metadata": {},
     "output_type": "execute_result"
    }
   ],
   "source": [
    "rows[0].attrs"
   ]
  },
  {
   "cell_type": "code",
   "execution_count": 37,
   "metadata": {},
   "outputs": [
    {
     "data": {
      "text/plain": [
       "{'class': ['smallFont'],\n",
       " 'id': 'grdRetraction_Title_0',\n",
       " 'style': 'border-color:Silver;',\n",
       " 'title': '18030'}"
      ]
     },
     "execution_count": 37,
     "metadata": {},
     "output_type": "execute_result"
    }
   ],
   "source": [
    "rows[0].find(id=lambda x: x and x.startswith(\"grdRetraction_Title\")).attrs"
   ]
  },
  {
   "cell_type": "code",
   "execution_count": 92,
   "metadata": {},
   "outputs": [],
   "source": [
    "a = rows[1].find(class_=\"authorLink\").parent"
   ]
  },
  {
   "cell_type": "code",
   "execution_count": 93,
   "metadata": {},
   "outputs": [],
   "source": [
    "p = a.find_next_sibling()\n",
    "r = p.find_next_sibling()\n",
    "t = r.find_next_sibling()\n",
    "f = t.find_next_sibling()"
   ]
  },
  {
   "cell_type": "code",
   "execution_count": 94,
   "metadata": {},
   "outputs": [
    {
     "data": {
      "text/plain": [
       "'vicky handling rolf  https://academic.oup.com/carcin/advance-article/doi/10.1093/carcin/bgy030/4955856\\n\\nCarcinogenesis is retracting the following paper following a joint research misconduct investigation by the Birmingham VA Medical Center and the University of Alabama at Birmingham, AL, USA.\\n\\nNandakumar, V. et al. (2011) Aberrant DNA hypermethylation patterns lead to transcriptional silencing of tumor suppressor genes in UVB-exposed skin and UVB-induced skin tumors of mice. Carcinogenesis, 32(4), 597–604.\\n\\nIn Figure 5, there are several instances in which bands are replicated but labelled to represent different experimental conditions. For example, the bands labeled P16INK4a ‘Ac-Histone H3’ and ‘MBD1’ are the same; the bands labeled P16INK4a ‘Ac-Histone H4 Input’ and ‘MBD1Input’ and ‘HDAC1 Input’ and RASSF1A ‘HDAC1Input’ appear to be identical.\\n\\nIn some cases, the bands are flipped (compare MeCP2 and HDAC-1 in Panel A). While the Input bands for Panel A are all the same, the Input is identical for the image shown at the bottom of Panel B—which is a different promoter region. There are no original data or records with which to clarify the identities of the input controls or experimental samples that are shown, or with which to validate the findings and conclusions drawn from this experiment.\\n\\nThis retraction is based on the unavailability of original data and records, the lack of replicate experiments that validate the published findings, and the ambiguous identification of many of the samples, treatments and controls.'"
      ]
     },
     "execution_count": 94,
     "metadata": {},
     "output_type": "execute_result"
    }
   ],
   "source": [
    "rows[0].find(alt=\"NotesAdmin\").attrs[\"title\"]"
   ]
  },
  {
   "cell_type": "code",
   "execution_count": 95,
   "metadata": {},
   "outputs": [
    {
     "name": "stdout",
     "output_type": "stream",
     "text": [
      "\n",
      "\n",
      "<span>Spain<br/>United States<br/><span class=\"rPaywalled\">No</span></span>\n",
      "\n",
      "\n",
      "<img alt=\"Notes\" border=\"0\" class=\"Notes\" id=\"imgNotes\" src=\"../Images/Notes.png\" style=\"display:none\" title=\"\"/>\n",
      "\n",
      "\n",
      "<img alt=\"NotesAdmin\" border=\"0\" class=\"NotesAdmin\" id=\"imgNotesAdmin\" src=\"../Images/NotesAdmin.png\" style=\"display:none;margin-top:2px;\" title=\"staff   https://onlinelibrary.wiley.com/doi/10.1111/clr.13083\n",
      "\n",
      "Calvo-Guirado JL, Ramírez-Fernández MP, Delgado-Ruíz RA, Maté-Sánchez JE, Velasquez P, de Aza PN. Influence of Biphasic ß-TCP with and without the use of collagen membranes on bone healing of surgically critical size defects. A radiological, histological, and histomorphometric study. Clin Oral Impl Res. 2014;25: 1228–1238.\n",
      "\n",
      "The above article, published online on 12 September 2013 in Wiley Online Library (wileyonlinelibrary.com), and in Volume 25, pp. 1228-1238, has been retracted by agreement between the journal Editor in Chief, L Heitz-Mayfield, and John Wiley &amp; Sons Ltd. The retraction has been agreed due to image discrepancies, resulting in unreliable data. It has not been possible to prove the validity of the images. Images in Figure 10 have been used in other publications representing different time points and experimental conditions.\n",
      "\n",
      "Reference\n",
      "\n",
      "Calvo-Guirado JL, Ramírez-Fernández MP, Delgado-Ruíz RA, Maté-Sánchez JE, Velasquez P, de Aza PN. Influence of Biphasic ß-TCP with and without the use of collagen membranes on bone healing of surgically critical size defects. A radiological, histological, and histomorphometric study. Clin Oral Impl Res. 2014;25: 1228–1238. https://doi.org/10.1111/clr.12258.\"/>\n",
      "\n",
      "\n"
     ]
    }
   ],
   "source": [
    "for y in f.children:\n",
    "    print(y)"
   ]
  },
  {
   "cell_type": "code",
   "execution_count": 102,
   "metadata": {},
   "outputs": [],
   "source": [
    "c = list(f.children)[1]"
   ]
  },
  {
   "cell_type": "code",
   "execution_count": 112,
   "metadata": {},
   "outputs": [
    {
     "data": {
      "text/plain": [
       "['Spain', 'United States']"
      ]
     },
     "execution_count": 112,
     "metadata": {},
     "output_type": "execute_result"
    }
   ],
   "source": [
    "[list(c.children)[i] for i in range(len(list(c.children))) if i%2 == 0][:-1]"
   ]
  },
  {
   "cell_type": "code",
   "execution_count": 106,
   "metadata": {},
   "outputs": [
    {
     "ename": "AttributeError",
     "evalue": "'list_iterator' object has no attribute 'children'",
     "output_type": "error",
     "traceback": [
      "\u001b[0;31m---------------------------------------------------------------------------\u001b[0m",
      "\u001b[0;31mAttributeError\u001b[0m                            Traceback (most recent call last)",
      "\u001b[0;32m<ipython-input-106-fd2c374eb8a6>\u001b[0m in \u001b[0;36m<module>\u001b[0;34m()\u001b[0m\n\u001b[0;32m----> 1\u001b[0;31m \u001b[0mlist\u001b[0m\u001b[0;34m(\u001b[0m\u001b[0mf\u001b[0m\u001b[0;34m.\u001b[0m\u001b[0mchildren\u001b[0m\u001b[0;34m.\u001b[0m\u001b[0mchildren\u001b[0m\u001b[0;34m)\u001b[0m\u001b[0;34m\u001b[0m\u001b[0m\n\u001b[0m",
      "\u001b[0;31mAttributeError\u001b[0m: 'list_iterator' object has no attribute 'children'"
     ]
    }
   ],
   "source": [
    "list(f.children.children)"
   ]
  },
  {
   "cell_type": "code",
   "execution_count": 118,
   "metadata": {},
   "outputs": [],
   "source": [
    "import parser"
   ]
  },
  {
   "cell_type": "code",
   "execution_count": 119,
   "metadata": {},
   "outputs": [
    {
     "ename": "AttributeError",
     "evalue": "'NoneType' object has no attribute 'text'",
     "output_type": "error",
     "traceback": [
      "\u001b[0;31m---------------------------------------------------------------------------\u001b[0m",
      "\u001b[0;31mAttributeError\u001b[0m                            Traceback (most recent call last)",
      "\u001b[0;32m<ipython-input-119-4784f769906e>\u001b[0m in \u001b[0;36m<module>\u001b[0;34m()\u001b[0m\n\u001b[0;32m----> 1\u001b[0;31m \u001b[0mparser\u001b[0m\u001b[0;34m.\u001b[0m\u001b[0mread_row\u001b[0m\u001b[0;34m(\u001b[0m\u001b[0mrows\u001b[0m\u001b[0;34m[\u001b[0m\u001b[0;36m0\u001b[0m\u001b[0;34m]\u001b[0m\u001b[0;34m)\u001b[0m\u001b[0;34m\u001b[0m\u001b[0m\n\u001b[0m",
      "\u001b[0;32m~/data_science/retraction_watch/parser.py\u001b[0m in \u001b[0;36mread_row\u001b[0;34m(soup)\u001b[0m\n\u001b[1;32m     26\u001b[0m     \u001b[0mjournal\u001b[0m \u001b[0;34m=\u001b[0m \u001b[0msoup\u001b[0m\u001b[0;34m.\u001b[0m\u001b[0mfind\u001b[0m\u001b[0;34m(\u001b[0m\u001b[0mclass_\u001b[0m\u001b[0;34m=\u001b[0m\u001b[0;34m\"rJournal\"\u001b[0m\u001b[0;34m)\u001b[0m\u001b[0;34m.\u001b[0m\u001b[0mtext\u001b[0m\u001b[0;34m\u001b[0m\u001b[0m\n\u001b[1;32m     27\u001b[0m     \u001b[0mpaper\u001b[0m\u001b[0;34m[\u001b[0m\u001b[0;34m\"journal\"\u001b[0m\u001b[0;34m]\u001b[0m \u001b[0;34m=\u001b[0m \u001b[0;34m\" \"\u001b[0m\u001b[0;34m.\u001b[0m\u001b[0mjoin\u001b[0m\u001b[0;34m(\u001b[0m \u001b[0mjournal\u001b[0m\u001b[0;34m.\u001b[0m\u001b[0msplit\u001b[0m\u001b[0;34m(\u001b[0m\u001b[0;34m)\u001b[0m\u001b[0;34m[\u001b[0m\u001b[0;34m:\u001b[0m\u001b[0;34m-\u001b[0m\u001b[0;36m2\u001b[0m\u001b[0;34m]\u001b[0m \u001b[0;34m)\u001b[0m\u001b[0;34m\u001b[0m\u001b[0m\n\u001b[0;32m---> 28\u001b[0;31m     \u001b[0mpaper\u001b[0m\u001b[0;34m[\u001b[0m\u001b[0;34m\"publisher\"\u001b[0m\u001b[0;34m]\u001b[0m \u001b[0;34m=\u001b[0m \u001b[0msoup\u001b[0m\u001b[0;34m.\u001b[0m\u001b[0mfind\u001b[0m\u001b[0;34m(\u001b[0m\u001b[0mclass_\u001b[0m\u001b[0;34m=\u001b[0m\u001b[0;34m\"rPublisher\"\u001b[0m\u001b[0;34m)\u001b[0m\u001b[0;34m.\u001b[0m\u001b[0mtext\u001b[0m\u001b[0;34m\u001b[0m\u001b[0m\n\u001b[0m\u001b[1;32m     29\u001b[0m \u001b[0;34m\u001b[0m\u001b[0m\n\u001b[1;32m     30\u001b[0m     \u001b[0;31m# [(Department, University, Location, etc)]\u001b[0m\u001b[0;34m\u001b[0m\u001b[0;34m\u001b[0m\u001b[0m\n",
      "\u001b[0;31mAttributeError\u001b[0m: 'NoneType' object has no attribute 'text'"
     ]
    }
   ],
   "source": [
    "parser.read_row(rows[0])"
   ]
  },
  {
   "cell_type": "code",
   "execution_count": null,
   "metadata": {},
   "outputs": [],
   "source": []
  }
 ],
 "metadata": {
  "kernelspec": {
   "display_name": "Python 3",
   "language": "python",
   "name": "python3"
  },
  "language_info": {
   "codemirror_mode": {
    "name": "ipython",
    "version": 3
   },
   "file_extension": ".py",
   "mimetype": "text/x-python",
   "name": "python",
   "nbconvert_exporter": "python",
   "pygments_lexer": "ipython3",
   "version": "3.6.5"
  }
 },
 "nbformat": 4,
 "nbformat_minor": 2
}
